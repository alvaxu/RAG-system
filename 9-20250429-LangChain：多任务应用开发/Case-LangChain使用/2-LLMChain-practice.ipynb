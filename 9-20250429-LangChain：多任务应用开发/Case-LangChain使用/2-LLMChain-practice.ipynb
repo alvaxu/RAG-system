{
 "cells": [
  {
   "cell_type": "code",
   "execution_count": 1,
   "id": "376284dc-0994-4c04-8bf7-aca263f96d0f",
   "metadata": {},
   "outputs": [
    {
     "name": "stdout",
     "output_type": "stream",
     "text": [
      "Looking in indexes: https://pypi.tuna.tsinghua.edu.cn/simple\n",
      "Collecting google-search-results\n",
      "  Downloading https://pypi.tuna.tsinghua.edu.cn/packages/77/30/b3a6f6a2e00f8153549c2fa345c58ae1ce8e5f3153c2fe0484d444c3abcb/google_search_results-2.4.2.tar.gz (18 kB)\n",
      "  Installing build dependencies: started\n",
      "  Installing build dependencies: finished with status 'done'\n",
      "  Getting requirements to build wheel: started\n",
      "  Getting requirements to build wheel: finished with status 'done'\n",
      "  Preparing metadata (pyproject.toml): started\n",
      "  Preparing metadata (pyproject.toml): finished with status 'done'\n",
      "Requirement already satisfied: requests in c:\\users\\administrator\\appdata\\local\\programs\\python\\python312\\lib\\site-packages (from google-search-results) (2.32.3)\n",
      "Requirement already satisfied: charset-normalizer<4,>=2 in c:\\users\\administrator\\appdata\\local\\programs\\python\\python312\\lib\\site-packages (from requests->google-search-results) (3.4.1)\n",
      "Requirement already satisfied: idna<4,>=2.5 in c:\\users\\administrator\\appdata\\local\\programs\\python\\python312\\lib\\site-packages (from requests->google-search-results) (3.10)\n",
      "Requirement already satisfied: urllib3<3,>=1.21.1 in c:\\users\\administrator\\appdata\\local\\programs\\python\\python312\\lib\\site-packages (from requests->google-search-results) (2.3.0)\n",
      "Requirement already satisfied: certifi>=2017.4.17 in c:\\users\\administrator\\appdata\\local\\programs\\python\\python312\\lib\\site-packages (from requests->google-search-results) (2025.1.31)\n",
      "Building wheels for collected packages: google-search-results\n",
      "  Building wheel for google-search-results (pyproject.toml): started\n",
      "  Building wheel for google-search-results (pyproject.toml): finished with status 'done'\n",
      "  Created wheel for google-search-results: filename=google_search_results-2.4.2-py3-none-any.whl size=32170 sha256=fdda8d08c38fafc530cccda32b47c31b889e893c4d4aa5027a36d075464fe9fe\n",
      "  Stored in directory: c:\\users\\administrator\\appdata\\local\\pip\\cache\\wheels\\e9\\5f\\b0\\a373760764b227a31bd7fd12df8094664b68f31a9470c5c32e\n",
      "Successfully built google-search-results\n",
      "Installing collected packages: google-search-results\n",
      "Successfully installed google-search-results-2.4.2\n"
     ]
    },
    {
     "name": "stderr",
     "output_type": "stream",
     "text": [
      "\n",
      "[notice] A new release of pip is available: 25.0.1 -> 25.1\n",
      "[notice] To update, run: python.exe -m pip install --upgrade pip\n"
     ]
    }
   ],
   "source": [
    "!pip install google-search-results"
   ]
  },
  {
   "cell_type": "code",
   "execution_count": 3,
   "id": "9b8b5249",
   "metadata": {},
   "outputs": [
    {
     "name": "stderr",
     "output_type": "stream",
     "text": [
      "C:\\Users\\Administrator\\AppData\\Local\\Temp\\ipykernel_24260\\600623174.py:28: LangChainDeprecationWarning: LangChain agents will continue to be supported, but it is recommended for new use cases to be built with LangGraph. LangGraph offers a more flexible and full-featured framework for building agents, including support for tool-calling, persistence of state, and human-in-the-loop workflows. For details, refer to the `LangGraph documentation <https://langchain-ai.github.io/langgraph/>`_ as well as guides for `Migrating from AgentExecutor <https://python.langchain.com/docs/how_to/migrate_agent/>`_ and LangGraph's `Pre-built ReAct agent <https://langchain-ai.github.io/langgraph/how-tos/create-react-agent/>`_.\n",
      "  agent = initialize_agent(tools, llm, agent=AgentType.ZERO_SHOT_REACT_DESCRIPTION, verbose=True)\n",
      "C:\\Users\\Administrator\\AppData\\Local\\Temp\\ipykernel_24260\\600623174.py:31: LangChainDeprecationWarning: The method `Chain.run` was deprecated in langchain 0.1.0 and will be removed in 1.0. Use :meth:`~invoke` instead.\n",
      "  agent.run(\"今天是几月几号?历史上的今天有哪些名人出生\")\n"
     ]
    },
    {
     "name": "stdout",
     "output_type": "stream",
     "text": [
      "\n",
      "\n",
      "\u001b[1m> Entering new AgentExecutor chain...\u001b[0m\n",
      "\u001b[32;1m\u001b[1;3m我需要先知道今天的日期，然后查询历史上的今天有哪些名人出生。\n",
      "Action: Search\n",
      "Action Input: 今天是几月几号 历史上的今天 名人出生\u001b[0m\n",
      "Observation: \u001b[36;1m\u001b[1;3m['历史上的今天说明：. 本页面是首页“历史上的今天”栏目本月模板的一个集合，其它月份模板的集合可以点击“按月份导航”的对应月份进入。如果需要编辑某日在首页“历史上的今天 ...', '30 · 31 · 历史上的今天 · 2024年 2023年 2022年. 12月21日是公历一年中的第355天（闰年 ... 上将（1885年出生）; 1959年：北大路鲁山人，日本艺术家（1883年出生）; 1960 ...', '中文名. 一月七日 · 外文名. January 7th · 重大事件. 中国共产党第六届中央委员会第四次全体会议在上海举行 · 出生人物. 厉声教、冯国璋、洪金宝等 · 逝世人物. 邵逸夫、昭和 ...', '历史上的今天12月8日。让我们一起回首历史上的今天的前尘与过往#历史知多少 #历史上的今天 #历史大事件 #牢记历史 #历史分享. 历史上的今天12月8日。', '1953年6月15日，习近平出生于北京。 于历史上同月同日出生的名人有：. 汉明帝刘庄，东汉第二位皇帝（28-75）. 安德罗波夫，苏共中央总书记（1914-1984）.', '5月1日是阳历年的第121天（闰年是122天），离一年的结束还有244天。 5月1日也是五一国际劳动节。', '历史上哪些名人是8月25号出生的 · 慕梓笠. ·8月前. 历史上的今天8月25日。 · 名人 直播中 · 名人 ·正在直播 · Yi. ·3年前. 知道该和哪个星座谈念爱了吧#致富经#处女座#映核 ...', '那天正好是旧历十一月十七日，胡适的27岁生日。他们在乡间举行了新式的文明婚礼。胡适写了《新婚杂诗》五首，发表于《新青年》四卷4号。 胡适没有度完 ...', '1964年——香港新生代演员邵仲衡出生。 1969年—— 韩国男演员金胜友出生。 1978年——韩国组合leessang成员姜熙健(Gary)出生。 1981年——澳大利亚网球选手雷顿·休伊特出生。', '1975年——日本演员吉濑美智子出生。 ... 1978年——美国男演员艾什顿·霍尔姆斯出生。 1978年——内地男演员张译出生。 ... 1980年——美国NBA纽约尼克斯队球员艾尔·哈灵顿出生。']\u001b[0m\n",
      "Thought:\u001b[32;1m\u001b[1;3m根据搜索结果，我找到了一些关于历史上的今天名人出生的信息，但没有明确给出今天的日期。我需要再次搜索以确认今天的日期。\n",
      "Action: Search\n",
      "Action Input: 今天是几月几号\u001b[0m\n",
      "Observation: \u001b[36;1m\u001b[1;3mSunday, May 4, 2025\u001b[0m\n",
      "Thought:\u001b[32;1m\u001b[1;3m现在我知道了今天的日期是2025年5月4日。接下来我需要查询历史上的5月4日有哪些名人出生。\n",
      "Action: Search\n",
      "Action Input: 历史上的5月4日 名人出生\u001b[0m\n",
      "Observation: \u001b[36;1m\u001b[1;3m['1406年：萨卢塔蒂，意大利人文主义者（1331年出生） · 1584年：龙造寺隆信，日本战国时代大名（1529年出生） · 1584年：圆城寺信胤，日本战国时代武将（生年不详） · 1641年：大友亲家，日本 ...', '1599年英国政治、军事家克伦威尔出生。 1883年前苏联元帅谢苗米哈伊洛维奇布琼尼出生。 1896年等松农夫藏，日本帝国时代海军上将。（1980年逝世） 1900年沃尔夫冈泡利 ...', '1978年——《名侦探柯南》中工藤新一出生。 未知时间——《无头骑士异闻录》中折原临也出生. 未知时间——《黑子的篮球》中桃井五月出生. 5月4日历史上发生了什么事. 1492年 ...', '5月4日出生的名人：1654年——清朝康熙皇帝在景仁宫中诞生（顺治十一年）。1796年——美国教育家霍瑞斯·曼在马萨诸塞州富兰克林出生。1825年——英国生物学家赫 ...', '五月四日： 1654年——清朝康熙皇帝在景仁宫中诞生（顺治十一年）。 康熙1796年——美国教育家霍瑞斯·曼在马萨诸塞州富兰克林出生。 1825年——英国生物学家赫胥黎出生。', '5月4日出生的名人有哪些？最后这位你绝对想不到！ ... 各位年满28岁和不满28岁的朋友们，五四青年节快乐！为啥要分满没满28岁？因为国家规定年龄为14~28周岁的 ...', '5月4日. 1654年清朝康熙皇帝在景仁宫中诞生. 1796年美国教育家霍瑞斯·曼在马萨诸塞州富兰克林出生. 1825年英国生物学家赫胥黎出生. 1827年英国探险家约翰·汉宁·斯皮克在 ...', '几乎与此同时，旅欧勤工俭学也在全面开始，漂洋过海万里负笈“看世界、求真理”的人里有周恩来、邓小平、陈毅、李富春、聂荣臻、蔡和森、赵世炎、王若飞、向警 ...', '5月4日這一天，不僅是國際青年日，更是許多歷史名人的誕辰。這個特殊的日子裡，蘊藏著無數激勵人心的故事與啟示。在台灣，我們熟知那些在文化、政治、科技等 ...', '发现生于5月4日的名人包括罗里麦克罗伊, 塞斯克·法布雷加斯, 托马斯·亨利·赫胥黎, 奥黛丽·赫本, 胡斯尼·穆巴拉克, 等.']\u001b[0m\n",
      "Thought:\u001b[32;1m\u001b[1;3m我找到了一些关于历史上的5月4日名人出生的信息。\n",
      "Final Answer: 今天是2025年5月4日。历史上的5月4日，有以下名人出生：1654年清朝康熙皇帝、1796年美国教育家霍瑞斯·曼、1825年英国生物学家赫胥黎、1920年奥黛丽·赫本等。\u001b[0m\n",
      "\n",
      "\u001b[1m> Finished chain.\u001b[0m\n"
     ]
    },
    {
     "data": {
      "text/plain": [
       "'今天是2025年5月4日。历史上的5月4日，有以下名人出生：1654年清朝康熙皇帝、1796年美国教育家霍瑞斯·曼、1825年英国生物学家赫胥黎、1920年奥黛丽·赫本等。'"
      ]
     },
     "execution_count": 3,
     "metadata": {},
     "output_type": "execute_result"
    }
   ],
   "source": [
    "import os\n",
    "from langchain.agents import load_tools\n",
    "from langchain.agents import initialize_agent\n",
    "from langchain_community.llms import Tongyi  # 导入通义千问Tongyi模型\n",
    "from langchain.agents import AgentType\n",
    "\n",
    "# 你需要在环境变量中添加 OPENAI_API_KEY 和 SERPAPI_API_KEY\n",
    "#os.environ[\"OPENAI_API_KEY\"] = '*******'\n",
    "os.environ[\"SERPAPI_API_KEY\"] = '0d5f2fc3573b1017a130e75b5ce659e9bd7d4badb9bc9246225059820cf1cb9b'\n",
    " \n",
    "# 设置通义千问API密钥\n",
    "DASHSCOPE_API_KEY = 'sk-882e296067b744289acf27e6e20f3ec0'\n",
    "\n",
    "# 加载模型\n",
    "llm = Tongyi(model_name=\"qwen-turbo\", dashscope_api_key=DASHSCOPE_API_KEY)  # 使用通义千问qwen-turbo模型\n",
    "\n",
    "# 加载 serpapi 工具\n",
    "tools = load_tools([\"serpapi\"])\n",
    " \n",
    "\"\"\"\n",
    "agent：代理类型  \n",
    "    zero-shot-react-description: 根据工具的描述和请求内容的来决定使用哪个工具（最常用）\n",
    "    react-docstore: 使用 ReAct 框架和 docstore 交互, 使用Search 和Lookup 工具, 前者用来搜, 后者寻找term, 举例: Wipipedia 工具\n",
    "    self-ask-with-search 此代理只使用一个工具: Intermediate Answer, 它会为问题寻找事实答案(指的非 gpt 生成的答案, 而是在网络中,文本中已存在的), 如 Google search API 工具\n",
    "    conversational-react-description: 为会话设置而设计的代理, 它的prompt会被设计的具有会话性, 且还是会使用 ReAct 框架来决定使用来个工具, 并且将过往的会话交互存入内存\n",
    "\"\"\"\n",
    "# 工具加载后需要初始化，verbose=True 代表打印执行详情\n",
    "agent = initialize_agent(tools, llm, agent=AgentType.ZERO_SHOT_REACT_DESCRIPTION, verbose=True)\n",
    " \n",
    "# 运行 agent\n",
    "agent.invoke(\"今天是几月几号?历史上的今天有哪些名人出生\")"
   ]
  },
  {
   "cell_type": "code",
   "execution_count": 4,
   "id": "f8890f6e",
   "metadata": {},
   "outputs": [
    {
     "data": {
      "text/plain": [
       "'0d5f2fc3573b1017a130e75b5ce659e9bd7d4badb9bc9246225059820cf1cb9b'"
      ]
     },
     "execution_count": 4,
     "metadata": {},
     "output_type": "execute_result"
    }
   ],
   "source": [
    "os.getenv(\"SERPAPI_API_KEY\")"
   ]
  }
 ],
 "metadata": {
  "kernelspec": {
   "display_name": "Python 3 (ipykernel)",
   "language": "python",
   "name": "python3"
  },
  "language_info": {
   "codemirror_mode": {
    "name": "ipython",
    "version": 3
   },
   "file_extension": ".py",
   "mimetype": "text/x-python",
   "name": "python",
   "nbconvert_exporter": "python",
   "pygments_lexer": "ipython3",
   "version": "3.12.2"
  }
 },
 "nbformat": 4,
 "nbformat_minor": 5
}
