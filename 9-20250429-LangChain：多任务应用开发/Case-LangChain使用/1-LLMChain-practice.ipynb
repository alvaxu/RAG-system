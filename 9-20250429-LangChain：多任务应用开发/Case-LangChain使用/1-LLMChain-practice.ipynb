{
 "cells": [
  {
   "cell_type": "code",
   "execution_count": 2,
   "id": "4930af04",
   "metadata": {},
   "outputs": [
    {
     "data": {
      "text/plain": [
       "StringPromptValue(text=\"What is a good name for a company that makes Colorful socks can be a fun and expressive accessory! They come in a wide variety of patterns, designs, and colors, allowing you to add a pop of personality to any outfit. Whether you're looking for stripes, polka dots, geometric shapes, cartoon characters, or solid bright hues, there's something for everyone.\\n\\nHere are some ideas and tips related to colorful socks:\\n\\n### 1. **Matching Your Outfit**\\n   - If you're wearing neutral tones (like black, gray, or beige), colorful socks can serve as a focal point.\\n   - Choose socks that complement the colors in your shirt, tie, or accessories.\\n\\n### 2. **Occasions for Colorful Socks**\\n   - **Casual Settings**: Perfect for everyday wear, especially with sneakers or loafers.\\n   - **Business Casual**: A subtle pair of colorful socks can add flair to a professional look without being too bold.\\n   - **Formal Events**: For weddings or formal gatherings, playful socks can be hidden under dress shoes but revealed during a dance or when kicking off your shoes.\\n\\n### 3. **Types of Patterns**\\n   - **Stripes**: Classic and versatile.\\n   - **Polka Dots**: Fun and whimsical.\\n   - **Geometric Shapes**: Modern and edgy.\\n   - **Nature Themes**: Flowers, animals, or landscapes for a creative touch.\\n   - **Solid Colors**: Bright reds, blues, yellows, or greens for a simple yet vibrant statement.\\n\\n### 4. **Material Considerations**\\n   - **Cotton**: Breathable and comfortable for everyday use.\\n   - **Wool**: Great for colder weather; often comes in rich, deep colors.\\n   - **Synthetic Blends**: Stretchy materials like spandex ensure a snug fit and prevent slipping.\\n\\n### 5. **DIY Projects**\\nIf you're feeling crafty, you could dye plain white socks using fabric dyes or markers to create custom designs. This is a great way to personalize your wardrobe!\\n\\nDo you have a specific style or occasion in mind where you'd like to incorporate colorful socks? Let me know if you'd like more tailored advice!?\")"
      ]
     },
     "execution_count": 2,
     "metadata": {},
     "output_type": "execute_result"
    }
   ],
   "source": [
    "from langchain.prompts import PromptTemplate\n",
    "from langchain_community.llms import Tongyi  # 导入通义千问Tongyi模型\n",
    "\n",
    "# 设置通义千问API密钥\n",
    "DASHSCOPE_API_KEY = 'sk-882e296067b744289acf27e6e20f3ec0'\n",
    " \n",
    "# 加载 Tongyi 模型\n",
    "llm = Tongyi(model_name=\"qwen-turbo\", dashscope_api_key=DASHSCOPE_API_KEY)  # 使用通义千问qwen-turbo模型\n",
    "\n",
    "# 创建Prompt Template\n",
    "prompt = PromptTemplate(\n",
    "    input_variables=[\"product\"],\n",
    "    template=\"What is a good name for a company that makes {product}?\",\n",
    ")\n",
    "\n",
    "from langchain.chains import LLMChain\n",
    "# 创建LLMChain = LLM + prompt\n",
    "chain = llm|prompt\n",
    "# 传入用户输入的input\n",
    "chain.invoke(\"colorful socks\")"
   ]
  }
 ],
 "metadata": {
  "kernelspec": {
   "display_name": "Python 3 (ipykernel)",
   "language": "python",
   "name": "python3"
  },
  "language_info": {
   "codemirror_mode": {
    "name": "ipython",
    "version": 3
   },
   "file_extension": ".py",
   "mimetype": "text/x-python",
   "name": "python",
   "nbconvert_exporter": "python",
   "pygments_lexer": "ipython3",
   "version": "3.12.2"
  }
 },
 "nbformat": 4,
 "nbformat_minor": 5
}
