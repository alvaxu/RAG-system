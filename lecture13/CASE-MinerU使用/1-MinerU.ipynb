{
 "cells": [
  {
   "cell_type": "code",
   "execution_count": 2,
   "id": "e37dc958-11eb-48b4-b887-c20884555bdf",
   "metadata": {},
   "outputs": [
    {
     "name": "stdout",
     "output_type": "stream",
     "text": [
      "200\n",
      "{'code': 0, 'msg': 'ok', 'trace_id': 'a196c7056707be714141038bb3cfce77', 'data': {'task_id': 'b3fdac05-200a-4135-8f84-ef2411c59037'}}\n",
      "{'task_id': 'b3fdac05-200a-4135-8f84-ef2411c59037'}\n"
     ]
    }
   ],
   "source": [
    "import requests\n",
    "\n",
    "api_key = '你的KEY'\n",
    "\n",
    "url='https://mineru.net/api/v4/extract/task'\n",
    "header = {\n",
    "    'Content-Type':'application/json',\n",
    "    \"Authorization\":f\"Bearer {api_key}\".format(api_key)\n",
    "}\n",
    "data = {\n",
    "    'url':'https://vl-image.oss-cn-shanghai.aliyuncs.com/Qwen3-tech_report.pdf',\n",
    "    'is_ocr':True,\n",
    "    'enable_formula': False,\n",
    "}\n",
    "\n",
    "res = requests.post(url,headers=header,json=data)\n",
    "print(res.status_code)\n",
    "print(res.json())\n",
    "print(res.json()[\"data\"])"
   ]
  },
  {
   "cell_type": "code",
   "execution_count": 3,
   "id": "49c0478d-6ffb-4639-8626-7d6f18e247de",
   "metadata": {},
   "outputs": [
    {
     "name": "stdout",
     "output_type": "stream",
     "text": [
      "b3fdac05-200a-4135-8f84-ef2411c59037\n"
     ]
    }
   ],
   "source": [
    "task_id = res.json()[\"data\"]['task_id']\n",
    "print(task_id)\n",
    "#task_id = "
   ]
  },
  {
   "cell_type": "code",
   "execution_count": 4,
   "id": "f8675a13-5101-4e9e-bc2f-78f5ba379e27",
   "metadata": {},
   "outputs": [
    {
     "name": "stdout",
     "output_type": "stream",
     "text": [
      "200\n",
      "{'code': 0, 'msg': 'ok', 'trace_id': 'c39beccb88235d3853e6ba0b035c1ad0', 'data': {'task_id': 'b3fdac05-200a-4135-8f84-ef2411c59037', 'state': 'running', 'err_msg': '', 'extract_progress': {'extracted_pages': 1, 'total_pages': 11, 'start_time': '2025-05-14 16:03:13'}}}\n",
      "{'task_id': 'b3fdac05-200a-4135-8f84-ef2411c59037', 'state': 'running', 'err_msg': '', 'extract_progress': {'extracted_pages': 1, 'total_pages': 11, 'start_time': '2025-05-14 16:03:13'}}\n"
     ]
    }
   ],
   "source": [
    "## 获取任务结果\n",
    "import requests\n",
    "\n",
    "url = f'https://mineru.net/api/v4/extract/task/{task_id}'\n",
    "header = {\n",
    "    'Content-Type':'application/json',\n",
    "    \"Authorization\":f\"Bearer {api_key}\".format(api_key)\n",
    "}\n",
    "\n",
    "res = requests.get(url, headers=header)\n",
    "print(res.status_code)\n",
    "print(res.json())\n",
    "print(res.json()[\"data\"])"
   ]
  }
 ],
 "metadata": {
  "kernelspec": {
   "display_name": "Python 3 (ipykernel)",
   "language": "python",
   "name": "python3"
  },
  "language_info": {
   "codemirror_mode": {
    "name": "ipython",
    "version": 3
   },
   "file_extension": ".py",
   "mimetype": "text/x-python",
   "name": "python",
   "nbconvert_exporter": "python",
   "pygments_lexer": "ipython3",
   "version": "3.12.2"
  }
 },
 "nbformat": 4,
 "nbformat_minor": 5
}
