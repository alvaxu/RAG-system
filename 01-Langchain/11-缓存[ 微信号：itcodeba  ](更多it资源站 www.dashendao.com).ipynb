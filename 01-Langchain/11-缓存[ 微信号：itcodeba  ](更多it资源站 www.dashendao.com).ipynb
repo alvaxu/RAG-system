{
 "cells": [
  {
   "cell_type": "markdown",
   "id": "c6bfe94f",
   "metadata": {},
   "source": [
    "## Caching 缓存\n",
    "\n",
    "LangChain为LLMs提供了可选的缓存层。这很有用，原因有两个：\n",
    "\n",
    "- 如果您经常多次请求相同的完成，它可以通过减少您对 LLM 提供程序进行的 API 调用次数来节省资金。\n",
    "- 它可以通过减少您对 LLM 提供程序进行的 API 调用次数来加速您的应用程序。"
   ]
  },
  {
   "cell_type": "code",
   "execution_count": 1,
   "id": "cfc01975",
   "metadata": {},
   "outputs": [
    {
     "name": "stdout",
     "output_type": "stream",
     "text": [
      "CPU times: total: 3.84 s\n",
      "Wall time: 36.5 s\n"
     ]
    },
    {
     "data": {
      "text/plain": [
       "AIMessage(content='### 问题陈述\\n**问题：** 请问2只兔子有多少条腿？\\n\\n### 初步理解\\n首先，我们需要明确几个关键信息：\\n1. **兔子的腿数**：通常，一只兔子有多少条腿？\\n2. **兔子的数量**：题目中提到了“2只兔子”。\\n3. **计算方式**：如何根据单只兔子的腿数和兔子的数量来计算总腿数。\\n\\n### 兔子的腿数\\n在生物学中，兔子属于哺乳动物，具有四肢。具体来说：\\n- 前肢：2条\\n- 后肢：2条\\n因此，**一只兔子通常有4条腿**。\\n\\n### 验证兔子的腿数\\n为了确保我们的理解正确，可以做一些验证：\\n- 观察：日常生活中看到的兔子，无论是宠物还是野兔，都是用四条腿行走或奔跑。\\n- 生物学分类：兔子属于脊椎动物门、哺乳纲，大多数哺乳动物都有四肢（除了某些特化的物种，如鲸鱼的后肢退化）。\\n- 其他类似动物：猫、狗等四足动物都有四条腿，兔子与之类似。\\n\\n没有发现兔子有不同于四条腿的普遍情况，因此可以确认一只兔子有4条腿。\\n\\n### 计算两只兔子的腿数\\n既然一只兔子有4条腿，那么两只兔子的腿数就是：\\n\\\\[ \\\\text{总腿数} = \\\\text{单只兔子的腿数} \\\\times \\\\text{兔子的数量} \\\\]\\n\\\\[ \\\\text{总腿数} = 4 \\\\times 2 = 8 \\\\]\\n\\n### 可能的误区\\n在思考这个问题时，可能会有以下误区：\\n1. **忽略兔子的正常腿数**：有人可能误以为兔子有两条腿，因为有时看到兔子站立时主要用后腿支撑。但实际上，兔子有四条腿，只是前腿较短。\\n2. **计算错误**：简单的乘法计算中，可能会算错，如4×2=6等。需要确保基本的乘法运算正确。\\n3. **特殊情况的考虑**：是否有兔子因为受伤或变异而腿数不同？在一般问题中，不考虑这些特殊情况，除非题目特别说明。\\n\\n### 实际应用\\n为了更直观地理解，可以想象：\\n- 画两只兔子，每只画四条腿，然后数一数总共有多少条腿。\\n- 或者，想象两只兔子站在一起，分别数它们的腿：第一只4条，第二只4条，加起来就是8条。\\n\\n### 数学表达\\n用数学表达式来表示：\\n\\\\[ \\\\text{总腿数} = \\\\text{腿数/只} \\\\times \\\\text{数量} \\\\]\\n\\\\[ \\\\text{总腿数} = 4 \\\\times 2 = 8 \\\\]\\n\\n### 检查其他动物\\n为了加深理解，可以对比其他动物的腿数：\\n- 鸡：通常2条腿，所以2只鸡有 \\\\(2 \\\\times 2 = 4\\\\) 条腿。\\n- 蜘蛛：通常8条腿，所以2只蜘蛛有 \\\\(8 \\\\times 2 = 16\\\\) 条腿。\\n这样的对比可以帮助确认我们的计算方法是正确的。\\n\\n### 可能的变体问题\\n类似的问题可能有：\\n- 3只兔子有多少条腿？ \\\\(4 \\\\times 3 = 12\\\\)\\n- 1只兔子和1只鸡有多少条腿？ \\\\(4 + 2 = 6\\\\)\\n这些变体可以帮助巩固对基础问题的理解。\\n\\n### 总结\\n通过以上步骤和验证，可以确定：\\n- 一只兔子有4条腿。\\n- 两只兔子的腿数为 \\\\(4 \\\\times 2 = 8\\\\) 条。\\n\\n### 最终答案\\n**2只兔子有8条腿。**', additional_kwargs={'refusal': None}, response_metadata={'token_usage': {'completion_tokens': 773, 'prompt_tokens': 11, 'total_tokens': 784, 'completion_tokens_details': None, 'prompt_tokens_details': {'audio_tokens': None, 'cached_tokens': 0}, 'prompt_cache_hit_tokens': 0, 'prompt_cache_miss_tokens': 11}, 'model_name': 'deepseek-chat', 'system_fingerprint': 'fp_8802369eaa_prod0425fp8', 'id': '8b5da898-ab45-4d22-82ef-064e75cf64fc', 'finish_reason': 'stop', 'logprobs': None}, id='run-755c05b5-68e3-4f05-83bb-30d51acd7eac-0', usage_metadata={'input_tokens': 11, 'output_tokens': 773, 'total_tokens': 784, 'input_token_details': {'cache_read': 0}, 'output_token_details': {}})"
      ]
     },
     "execution_count": 1,
     "metadata": {},
     "output_type": "execute_result"
    }
   ],
   "source": [
    "%%time\n",
    "from langchain_openai import ChatOpenAI\n",
    "openai_api_key=\"sk-9846f14a2104490b960adbf5c5b3b32e\" #老师的Key\n",
    "openai_api_base = \"https://api.deepseek.com\"\n",
    "MODEL= \"deepseek-chat\"\n",
    "chat = ChatOpenAI(\n",
    "    model= MODEL,\n",
    "    openai_api_key=openai_api_key,\n",
    "    openai_api_base=openai_api_base,\n",
    "    temperature=0.7,\n",
    ")\n",
    "\n",
    "chat.invoke(\"请问2只兔子有多少条腿？\")"
   ]
  },
  {
   "cell_type": "code",
   "execution_count": 2,
   "id": "d9f2c843",
   "metadata": {},
   "outputs": [
    {
     "name": "stdout",
     "output_type": "stream",
     "text": [
      "CPU times: total: 938 ms\n",
      "Wall time: 1.74 s\n"
     ]
    }
   ],
   "source": [
    "%%time\n",
    "from langchain.globals import set_llm_cache\n",
    "from langchain.cache import InMemoryCache\n",
    "\n",
    "set_llm_cache(InMemoryCache())\n",
    "\n"
   ]
  },
  {
   "cell_type": "code",
   "execution_count": 3,
   "id": "33aae276",
   "metadata": {},
   "outputs": [
    {
     "name": "stdout",
     "output_type": "stream",
     "text": [
      "CPU times: total: 78.1 ms\n",
      "Wall time: 10.3 s\n"
     ]
    },
    {
     "data": {
      "text/plain": [
       "'**🌿康师傅绿茶：夏日解渴神器，0脂0负担！🍃**  \\n\\n最近天气越来越热，总想喝点清爽的！康师傅绿茶真的是我的夏日续命水！💚  \\n\\n✨ **0脂0糖**，喝起来完全没负担，解渴又健康！  \\n✨ **清新茶香**，茉莉花+绿茶的双重香气，一口下去超舒爽～  \\n✨ **冰镇更绝**！放冰箱冷藏后喝，简直透心凉，瞬间降温！  \\n\\n不管是上班、运动还是宅家追剧，随手来一瓶，清爽不腻还解腻！🥤  \\n\\n**#康师傅绿茶 #夏日饮品 #0脂0糖 #解渴神器**  \\n\\n你们夏天最爱喝什么饮料？快来评论区安利给我吧！👇'"
      ]
     },
     "execution_count": 3,
     "metadata": {},
     "output_type": "execute_result"
    }
   ],
   "source": [
    "%%time\n",
    "from langchain_core.output_parsers import StrOutputParser\n",
    "from langchain_core.prompts import ChatPromptTemplate\n",
    "prompt = ChatPromptTemplate.from_template(\"请根据下面的主题写一篇小红书营销的短文： {topic}\")\n",
    "output_parser = StrOutputParser()\n",
    "\n",
    "chain = prompt | chat | output_parser\n",
    "\n",
    "chain.invoke({\"topic\": \"康师傅绿茶\"})"
   ]
  },
  {
   "cell_type": "code",
   "execution_count": 4,
   "id": "c731d47c",
   "metadata": {},
   "outputs": [
    {
     "name": "stdout",
     "output_type": "stream",
     "text": [
      "CPU times: total: 0 ns\n",
      "Wall time: 1 ms\n"
     ]
    },
    {
     "data": {
      "text/plain": [
       "'**🌿康师傅绿茶：夏日解渴神器，0脂0负担！🍃**  \\n\\n最近天气越来越热，总想喝点清爽的！康师傅绿茶真的是我的夏日续命水！💚  \\n\\n✨ **0脂0糖**，喝起来完全没负担，解渴又健康！  \\n✨ **清新茶香**，茉莉花+绿茶的双重香气，一口下去超舒爽～  \\n✨ **冰镇更绝**！放冰箱冷藏后喝，简直透心凉，瞬间降温！  \\n\\n不管是上班、运动还是宅家追剧，随手来一瓶，清爽不腻还解腻！🥤  \\n\\n**#康师傅绿茶 #夏日饮品 #0脂0糖 #解渴神器**  \\n\\n你们夏天最爱喝什么饮料？快来评论区安利给我吧！👇'"
      ]
     },
     "execution_count": 4,
     "metadata": {},
     "output_type": "execute_result"
    }
   ],
   "source": [
    "%%time\n",
    "chain.invoke({\"topic\": \"康师傅绿茶\"})"
   ]
  },
  {
   "cell_type": "markdown",
   "id": "8ac0ea95",
   "metadata": {},
   "source": [
    "## SQLite 缓存"
   ]
  },
  {
   "cell_type": "code",
   "execution_count": 5,
   "id": "9db1deea",
   "metadata": {},
   "outputs": [],
   "source": [
    "# We can do the same thing with a SQLite cache\n",
    "from langchain.cache import SQLiteCache\n",
    "\n",
    "set_llm_cache(SQLiteCache(database_path=\"./db/langchain.db\"))"
   ]
  },
  {
   "cell_type": "code",
   "execution_count": 6,
   "id": "b7c42ad9",
   "metadata": {},
   "outputs": [
    {
     "name": "stdout",
     "output_type": "stream",
     "text": [
      "CPU times: total: 15.6 ms\n",
      "Wall time: 16.4 s\n"
     ]
    },
    {
     "data": {
      "text/plain": [
       "'**旺仔小馒头｜童年回忆杀！这波安利我吃定了！💕**  \\n\\n**✨ 是谁的DNA动了？**  \\n一看到这个红色包装+旺仔大眼仔，瞬间梦回童年！旺仔小馒头，从小吃到大的神仙零食，酥酥脆脆，奶香浓郁，一口一个根本停不下来～  \\n\\n**🌟 为什么我永远爱它？**  \\n✅ **入口即化**：小小一颗，蓬松酥脆，融化在嘴里的感觉太治愈了！  \\n✅ **奶味超浓**：用的是优质奶粉，甜度刚好，越嚼越香～  \\n✅ **万能搭配**：泡牛奶、拌酸奶、撒冰淇淋…解锁N种吃法，怎么搭都绝！  \\n\\n**💡 隐藏吃法大公开！**  \\n1️⃣ **旺仔小馒头拿铁**：压碎撒在咖啡上，奶香+咖啡香双重暴击！  \\n2️⃣ **追剧小零嘴**：直接囤一大包，看剧时咔嚓咔嚓，快乐翻倍！  \\n3️⃣ **宝宝辅食**：成分简单，很多宝妈也会用它给宝宝磨牙哦～  \\n\\n**📢 姐妹们快冲！**  \\n超市/便利店/网购都能买到，价格超亲民！童年味道yyds，没吃过的快去试试，吃过的来评论区举个手🙋\\u200d♀️～  \\n\\n#旺仔小馒头 #童年零食 #追剧必备 #零食安利 #小红书爆款'"
      ]
     },
     "execution_count": 6,
     "metadata": {},
     "output_type": "execute_result"
    }
   ],
   "source": [
    "%%time\n",
    "chain.invoke({\"topic\": \"旺仔小馒头\"})"
   ]
  },
  {
   "cell_type": "code",
   "execution_count": 7,
   "id": "d3245e7a",
   "metadata": {},
   "outputs": [
    {
     "name": "stdout",
     "output_type": "stream",
     "text": [
      "CPU times: total: 0 ns\n",
      "Wall time: 3.01 ms\n"
     ]
    },
    {
     "data": {
      "text/plain": [
       "'**旺仔小馒头｜童年回忆杀！这波安利我吃定了！💕**  \\n\\n**✨ 是谁的DNA动了？**  \\n一看到这个红色包装+旺仔大眼仔，瞬间梦回童年！旺仔小馒头，从小吃到大的神仙零食，酥酥脆脆，奶香浓郁，一口一个根本停不下来～  \\n\\n**🌟 为什么我永远爱它？**  \\n✅ **入口即化**：小小一颗，蓬松酥脆，融化在嘴里的感觉太治愈了！  \\n✅ **奶味超浓**：用的是优质奶粉，甜度刚好，越嚼越香～  \\n✅ **万能搭配**：泡牛奶、拌酸奶、撒冰淇淋…解锁N种吃法，怎么搭都绝！  \\n\\n**💡 隐藏吃法大公开！**  \\n1️⃣ **旺仔小馒头拿铁**：压碎撒在咖啡上，奶香+咖啡香双重暴击！  \\n2️⃣ **追剧小零嘴**：直接囤一大包，看剧时咔嚓咔嚓，快乐翻倍！  \\n3️⃣ **宝宝辅食**：成分简单，很多宝妈也会用它给宝宝磨牙哦～  \\n\\n**📢 姐妹们快冲！**  \\n超市/便利店/网购都能买到，价格超亲民！童年味道yyds，没吃过的快去试试，吃过的来评论区举个手🙋\\u200d♀️～  \\n\\n#旺仔小馒头 #童年零食 #追剧必备 #零食安利 #小红书爆款'"
      ]
     },
     "execution_count": 7,
     "metadata": {},
     "output_type": "execute_result"
    }
   ],
   "source": [
    "%%time\n",
    "chain.invoke({\"topic\": \"旺仔小馒头\"})"
   ]
  },
  {
   "cell_type": "code",
   "execution_count": null,
   "id": "f6419fca",
   "metadata": {},
   "outputs": [],
   "source": []
  }
 ],
 "metadata": {
  "kernelspec": {
   "display_name": "Python 3 (ipykernel)",
   "language": "python",
   "name": "python3"
  },
  "language_info": {
   "codemirror_mode": {
    "name": "ipython",
    "version": 3
   },
   "file_extension": ".py",
   "mimetype": "text/x-python",
   "name": "python",
   "nbconvert_exporter": "python",
   "pygments_lexer": "ipython3",
   "version": "3.12.2"
  }
 },
 "nbformat": 4,
 "nbformat_minor": 5
}
