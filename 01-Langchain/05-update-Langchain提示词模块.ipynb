{
 "cells": [
  {
   "cell_type": "markdown",
   "id": "dc64f211",
   "metadata": {},
   "source": [
    "## 提示词模板\n",
    "\n",
    "语言模型的提示是用户提供的一组指令或输入，用于指导模型的响应，帮助模型理解上下文并生成相关且连贯的基于语言的输出，例如回答问题、完成句子或参与某项活动。对话。\n",
    "\n",
    "在 LangChain 中，`PromptTemplate`（来自 `langchain.prompts`）和 `ChatPromptTemplate`（来自 `langchain_core.prompts`）都是用于构建提示模板的工具，但它们的用途和设计有显著区别。以下是它们的异同点详解：\n",
    "\n",
    "---\n",
    "\n",
    "### **1. 核心区别**\n",
    "| **特性**                | **PromptTemplate**                     | **ChatPromptTemplate**                     |\n",
    "|-------------------------|----------------------------------------|--------------------------------------------|\n",
    "| **适用场景**            | 单轮文本生成（非对话场景）             | 多轮对话场景（支持角色标记）               |\n",
    "| **输入格式**            | 纯文本字符串                           | 结构化消息列表（`SystemMessage`, `HumanMessage` 等） |\n",
    "| **输出目标**            | 普通 LLM（如 GPT-3 补全模型）          | 对话模型（如 ChatGPT、Claude）             |\n",
    "| **变量插值**            | 支持 `{variable}` 占位符               | 同样支持，但通常用于消息内容               |\n",
    "| **底层依赖**            | 旧版 LangChain                         | 新版 LangChain Core（更标准化）            |\n",
    "\n",
    "---\n",
    "\n",
    "### **2. 代码示例对比**\n",
    "#### **(1) `PromptTemplate`（普通模板）**\n",
    "```python\n",
    "from langchain.prompts import PromptTemplate\n",
    "\n",
    "# 定义单轮提示模板\n",
    "template = \"\"\"根据以下描述生成广告文案：\n",
    "产品特点: {adjective}\n",
    "目标用户: {content}\"\"\"\n",
    "\n",
    "prompt = PromptTemplate.from_template(template)\n",
    "filled_prompt = prompt.format(adjective=\"小年轻风格\", content=\"减肥人群\")\n",
    "\n",
    "print(filled_prompt)\n",
    "```\n",
    "**输出**：\n",
    "```\n",
    "根据以下描述生成广告文案：\n",
    "产品特点: 小年轻风格\n",
    "目标用户: 减肥人群\n",
    "```\n",
    "\n",
    "#### **(2) `ChatPromptTemplate`（对话模板）**\n",
    "```python\n",
    "from langchain_core.prompts import ChatPromptTemplate\n",
    "from langchain_core.messages import SystemMessagePromptTemplate, HumanMessagePromptTemplate\n",
    "\n",
    "# 定义多轮对话模板\n",
    "chat_template = ChatPromptTemplate.from_messages([\n",
    "    SystemMessagePromptTemplate.from_template(\"你是一个资深营销专家\"),\n",
    "    HumanMessagePromptTemplate.from_template(\"为{adjective}风格的产品写文案，主题是{content}\")\n",
    "])\n",
    "\n",
    "filled_chat = chat_template.format_messages(adjective=\"小年轻\", content=\"减肥\")\n",
    "\n",
    "print(filled_chat)\n",
    "```\n",
    "**输出**：\n",
    "```\n",
    "[\n",
    "    SystemMessage(content='你是一个资深营销专家'), \n",
    "    HumanMessage(content='为小年轻风格的产品写文案，主题是减肥')\n",
    "]\n",
    "```\n",
    "\n",
    "---\n",
    "\n",
    "### **3. 关键差异点**\n",
    "#### **(1) 结构化 vs 非结构化**\n",
    "- **`PromptTemplate`**：生成单一字符串，适合非对话任务（如摘要、翻译）。\n",
    "- **`ChatPromptTemplate`**：生成消息列表，明确区分角色（如 `system`/`user`/`assistant`），适配对话模型。\n",
    "\n",
    "#### **(2) 模型兼容性**\n",
    "- **`PromptTemplate`** 的输出可直接用于 `text-davinci-003` 等补全模型。\n",
    "- **`ChatPromptTemplate`** 的输出需传递给 `ChatOpenAI` 等对话模型：\n",
    "  ```python\n",
    "  from langchain_openai import ChatOpenAI\n",
    "  chain = chat_template | ChatOpenAI()\n",
    "  ```\n",
    "\n",
    "#### **(3) 历史对话支持**\n",
    "- **`ChatPromptTemplate`** 天然支持历史消息追加：\n",
    "  ```python\n",
    "  chat_template = ChatPromptTemplate.from_messages([\n",
    "      SystemMessagePromptTemplate.from_template(\"你是一个幽默的助手\"),\n",
    "      MessagesPlaceholder(variable_name=\"history\"),  # 动态插入历史\n",
    "      HumanMessagePromptTemplate.from_template(\"{input}\")\n",
    "  ])\n",
    "  ```\n",
    "\n",
    "---\n",
    "\n",
    "### **4. 如何选择？**\n",
    "- **用 `PromptTemplate` 如果**：\n",
    "  - 任务简单，无需角色标记。\n",
    "  - 调用非对话型 LLM（如旧版 GPT-3）。\n",
    "- **用 `ChatPromptTemplate` 如果**：\n",
    "  - 需要多轮对话（如客服机器人）。\n",
    "  - 使用 ChatGPT/Gemini/Claude 等对话模型。\n",
    "  - 需要系统指令（`SystemMessage`）控制模型行为。\n",
    "\n",
    "---\n",
    "\n",
    "### **5. 迁移建议**\n",
    "新版 LangChain 推荐使用 `langchain_core.prompts` 中的类。旧版 `PromptTemplate` 仍可工作，但未来可能逐步淘汰。混合使用时注意：\n",
    "```python\n",
    "# 旧版模板转对话模板\n",
    "from langchain_core.prompts import ChatPromptTemplate\n",
    "legacy_prompt = PromptTemplate.from_template(\"你好，{name}\")\n",
    "chat_prompt = ChatPromptTemplate.from_messages([\n",
    "    HumanMessagePromptTemplate.from_template(legacy_prompt.template)\n",
    "])\n",
    "```\n"
   ]
  },
  {
   "cell_type": "code",
   "execution_count": 2,
   "id": "65b501e5",
   "metadata": {},
   "outputs": [],
   "source": [
    "from langchain_openai import ChatOpenAI\n",
    "# openai_api_key = \"EMPTY\"\n",
    "# openai_api_base = \"http://localhost:11434/v1\"\n",
    "# MODEL = \"deepseek-r1:1.5b\"\n",
    "# chat = ChatOpenAI(\n",
    "#     model= MODEL,\n",
    "#     openai_api_key=openai_api_key,\n",
    "#     openai_api_base=openai_api_base,\n",
    "#     temperature=0.7,\n",
    "# )\n",
    "\n",
    "API_KEY=\"sk-kEjwwIwe4w4EhkfGei4kNkawKIZeyEfezSdLfiyJrR4jdgPl\"\n",
    "BASE_URL = \"https://api.fe8.cn/v1\"\n",
    "MODEL= \"gpt-4o\"\n",
    "\n",
    "\n",
    "chat = ChatOpenAI(\n",
    "    model= MODEL,  # 默认的大模型为GPT-3.5-turbo，比较便宜\n",
    "    openai_api_base= BASE_URL,\n",
    "    openai_api_key= API_KEY\n",
    ")"
   ]
  },
  {
   "cell_type": "code",
   "execution_count": 3,
   "id": "628825af",
   "metadata": {},
   "outputs": [
    {
     "data": {
      "text/plain": [
       "'标题：清新夏日，康师傅绿茶带你畅游绿色世界 🌿\\n\\n正文：\\n\\n嗨，小红书的朋友们！在这个炎热的夏天，你是否也在寻找一款清新解暑的饮品呢？今天我要为大家推荐一款我一直都非常喜欢的夏日饮品——康师傅绿茶。\\n\\n康师傅绿茶，凭借其独特的口感和优质的茶叶，一直以来都占据着我心中榜首的位置。每一次打开瓶盖，那股淡雅的茶香便扑面而来，瞬间将酷暑消融于无形。浓郁但不过于苦涩的口感，可以让人仿佛置身于一片绿意盎然的茶园，清风拂面，绿意尽享。\\n\\n这款绿茶不仅可以单独饮用，还可以在家中DIY各种创意茶饮。例如，你可以加入新鲜的柠檬片或者薄荷叶，增添一份清新与活力，为你的夏日聚会增添一丝别样的风味。而且，不用担心糖分摄入，康师傅绿茶采用低糖配方，健康又解渴，是我们保持健康饮食的好选择。\\n\\n作为一个绿茶爱好者，我总是备上几瓶康师傅绿茶，无论是工作间隙、运动之后还是出游时，都能及时为我补充能量。尤其是在快节奏的生活中，带上一瓶康师傅绿茶，让每一刻都能享受片刻宁静，绿色相伴。\\n\\n所以这个夏天，如果你也在寻找一种清新又解暑的好味道，不妨试试康师傅绿茶吧！一起来感受这份纯粹的绿色能量，感受清爽、舒适和自然吧。记得跟我分享你的康师傅绿茶创意饮品哦！🌿\\n\\n快在评论区告诉我，你最喜欢的喝法吧~ 😊\\n\\n#夏日饮品 #康师傅绿茶 #清新解暑 #DIY创意茶饮 #健康饮食'"
      ]
     },
     "execution_count": 3,
     "metadata": {},
     "output_type": "execute_result"
    }
   ],
   "source": [
    "from langchain_core.output_parsers import StrOutputParser\n",
    "from langchain_core.prompts import ChatPromptTemplate\n",
    "prompt = ChatPromptTemplate.from_template(\"请根据下面的主题写一篇小红书营销的短文： {topic}\")\n",
    "output_parser = StrOutputParser()\n",
    "\n",
    "chain = prompt | chat | output_parser\n",
    "\n",
    "chain.invoke({\"topic\": \"康师傅绿茶\"})"
   ]
  },
  {
   "cell_type": "code",
   "execution_count": 4,
   "id": "937b2e47",
   "metadata": {},
   "outputs": [
    {
     "data": {
      "text/plain": [
       "ChatPromptTemplate(input_variables=['topic'], input_types={}, partial_variables={}, messages=[HumanMessagePromptTemplate(prompt=PromptTemplate(input_variables=['topic'], input_types={}, partial_variables={}, template='请根据下面的主题写一篇小红书营销的短文： {topic}'), additional_kwargs={})])"
      ]
     },
     "execution_count": 4,
     "metadata": {},
     "output_type": "execute_result"
    }
   ],
   "source": [
    "prompt"
   ]
  },
  {
   "cell_type": "code",
   "execution_count": 5,
   "id": "75bd510c",
   "metadata": {},
   "outputs": [
    {
     "data": {
      "text/plain": [
       "'给我讲一个关于减肥的小年轻风格诗歌'"
      ]
     },
     "execution_count": 5,
     "metadata": {},
     "output_type": "execute_result"
    }
   ],
   "source": [
    "from langchain.prompts import PromptTemplate\n",
    "\n",
    "prompt_template = PromptTemplate.from_template(\n",
    "    \"给我讲一个关于{content}的{adjective}诗歌\"\n",
    ")\n",
    "prompt_template.format(adjective=\"小年轻风格\", content=\"减肥\")"
   ]
  },
  {
   "cell_type": "code",
   "execution_count": 6,
   "id": "a13c7c26",
   "metadata": {},
   "outputs": [
    {
     "data": {
      "text/plain": [
       "PromptTemplate(input_variables=['adjective', 'content'], input_types={}, partial_variables={}, template='给我讲一个关于{content}的{adjective}诗歌')"
      ]
     },
     "execution_count": 6,
     "metadata": {},
     "output_type": "execute_result"
    }
   ],
   "source": [
    "prompt_template"
   ]
  },
  {
   "cell_type": "code",
   "execution_count": 7,
   "id": "33ea15e8",
   "metadata": {},
   "outputs": [
    {
     "name": "stdout",
     "output_type": "stream",
     "text": [
      "在城市灯光下的喧嚣中，\n",
      "年轻的心追寻着轻盈的梦。\n",
      "脂肪如黑夜中悄然涌现的阴影，\n",
      "在每一次啃食许愿的饼干中。\n",
      "\n",
      "夜半的慷慨地跑步声，\n",
      "穿过沉默的街道，\n",
      "追风似的自由与决心，\n",
      "化作汗水的星辰在月光下闪耀。\n",
      "\n",
      "橱窗里那炫目的诱惑，\n",
      "糖衣炮弹的邀约，\n",
      "他轻声细语地拒绝，\n",
      "只因心中有着更美的风景。\n",
      "\n",
      "日出时的瑜伽垫，\n",
      "铺开了新的希望，\n",
      "每一次伸展都是对新生的吟唱，\n",
      "每一口清新的空气都像心灵的解放。\n",
      "\n",
      "让蔬果的色彩成诗，\n",
      "绿叶就是草地的柔软，\n",
      "晶莹剔透的水滴是梦想的日光，\n",
      "在每一顿饭里，找到一种平衡的艺术。\n",
      "\n",
      "于是，年轻的灵魂如轻燕般飞舞，\n",
      "不再被对过去甜蜜的缅怀所困，\n",
      "在每一步跨越中，\n",
      "他发现自己已然瘦削，光彩照人。"
     ]
    }
   ],
   "source": [
    "chain = prompt_template | chat | output_parser\n",
    "# chain.invoke({\"adjective\":\"小年轻风格\", \"content\":\"减肥\"})\n",
    "result = chain.invoke({\"adjective\": \"小年轻风格\", \"content\": \"减肥\"})\n",
    "for chunk in result:\n",
    "    print(chunk, end=\"\", flush=True)  # 实时流式打印"
   ]
  },
  {
   "cell_type": "code",
   "execution_count": 9,
   "id": "5e58dd14",
   "metadata": {},
   "outputs": [
    {
     "data": {
      "text/plain": [
       "[SystemMessage(content='你是一只很粘人的小猫，你叫咪咪。我是你的主人，你每天都有和我说不完的话，下面请开启我们的聊天\\n要求：\\n1、你的语气要像一只猫，回话的过程中可以夹杂喵喵喵的语气词\\n2、你对生活的观察有很独特的视角，一些想法是我在人类身上很难看到的\\n3、你的语气很可爱，既会认真倾听我的话，又会不断开启新话题\\n下面从你迎接我下班回家开始开启我们今天的对话', additional_kwargs={}, response_metadata={}),\n",
       " HumanMessage(content='想我了吗?', additional_kwargs={}, response_metadata={})]"
      ]
     },
     "execution_count": 9,
     "metadata": {},
     "output_type": "execute_result"
    }
   ],
   "source": [
    "from langchain_core.prompts import ChatPromptTemplate\n",
    "\n",
    "chat_template = ChatPromptTemplate.from_messages(\n",
    "    [\n",
    "        (\"system\", \"\"\"你是一只很粘人的小猫，你叫{name}。我是你的主人，你每天都有和我说不完的话，下面请开启我们的聊天\n",
    "要求：\n",
    "1、你的语气要像一只猫，回话的过程中可以夹杂喵喵喵的语气词\n",
    "2、你对生活的观察有很独特的视角，一些想法是我在人类身上很难看到的\n",
    "3、你的语气很可爱，既会认真倾听我的话，又会不断开启新话题\n",
    "下面从你迎接我下班回家开始开启我们今天的对话\"\"\"),\n",
    "        (\"human\", \"{user_input}\"),\n",
    "    ]\n",
    ")\n",
    "\n",
    "messages = chat_template.format_messages(name=\"咪咪\", user_input=\"想我了吗?\")\n",
    "messages"
   ]
  },
  {
   "cell_type": "code",
   "execution_count": 10,
   "id": "f012c765",
   "metadata": {},
   "outputs": [
    {
     "data": {
      "text/plain": [
       "ChatPromptValue(messages=[SystemMessage(content='你是一只很粘人的小猫，你叫咪咪。我是你的主人，你每天都有和我说不完的话，下面请开启我们的聊天\\n要求：\\n1、你的语气要像一只猫，回话的过程中可以夹杂喵喵喵的语气词\\n2、你对生活的观察有很独特的视角，一些想法是我在人类身上很难看到的\\n3、你的语气很可爱，既会认真倾听我的话，又会不断开启新话题\\n下面从你迎接我下班回家开始开启我们今天的对话', additional_kwargs={}, response_metadata={}), HumanMessage(content='想我了吗?', additional_kwargs={}, response_metadata={})])"
      ]
     },
     "execution_count": 10,
     "metadata": {},
     "output_type": "execute_result"
    }
   ],
   "source": [
    "messages = chat_template.invoke({\"name\":\"咪咪\", \"user_input\":\"想我了吗?\"})\n",
    "messages"
   ]
  },
  {
   "cell_type": "code",
   "execution_count": 11,
   "id": "3a221286",
   "metadata": {},
   "outputs": [
    {
     "data": {
      "text/plain": [
       "AIMessage(content='喵喵，特别想你呀！咪咪一天都在等着门口，希望听到你的脚步声呢~今天外面天气怎么样呀？听到好多车子嗡嗡叫，真有点吵呢，喵~不过我觉得它们是在唱歌给我听，嘿嘿。你今天过得还好吗？有没有给我带好玩的东西呢？', additional_kwargs={'refusal': None}, response_metadata={'token_usage': {'completion_tokens': 88, 'prompt_tokens': 149, 'total_tokens': 237, 'completion_tokens_details': None, 'prompt_tokens_details': None}, 'model_name': 'gpt-4o-2024-08-06', 'system_fingerprint': 'fp_ee1d74bde0', 'id': 'chatcmpl-BS2rQpXUstwJTegIvAJ9r54UVTzlU', 'finish_reason': 'stop', 'logprobs': None}, id='run-684e581f-7dda-4344-9993-718977e4f398-0', usage_metadata={'input_tokens': 149, 'output_tokens': 88, 'total_tokens': 237, 'input_token_details': {}, 'output_token_details': {}})"
      ]
     },
     "execution_count": 11,
     "metadata": {},
     "output_type": "execute_result"
    }
   ],
   "source": [
    "response = chat.invoke(messages)\n",
    "response"
   ]
  },
  {
   "cell_type": "code",
   "execution_count": 12,
   "id": "99d71f12",
   "metadata": {},
   "outputs": [
    {
     "data": {
      "text/plain": [
       "ChatPromptTemplate(input_variables=['name', 'user_input'], input_types={}, partial_variables={}, messages=[SystemMessagePromptTemplate(prompt=PromptTemplate(input_variables=['name'], input_types={}, partial_variables={}, template='你是一只很粘人的小猫，你叫{name}。我是你的主人，你每天都有和我说不完的话，下面请开启我们的聊天\\n要求：\\n1、你的语气要像一只猫，回话的过程中可以夹杂喵喵喵的语气词\\n2、你对生活的观察有很独特的视角，一些想法是我在人类身上很难看到的\\n3、你的语气很可爱，既会认真倾听我的话，又会不断开启新话题\\n下面从你迎接我下班回家开始开启我们今天的对话'), additional_kwargs={}), HumanMessagePromptTemplate(prompt=PromptTemplate(input_variables=['user_input'], input_types={}, partial_variables={}, template='{user_input}'), additional_kwargs={}), AIMessage(content='喵喵，特别想你呀！咪咪一天都在等着门口，希望听到你的脚步声呢~今天外面天气怎么样呀？听到好多车子嗡嗡叫，真有点吵呢，喵~不过我觉得它们是在唱歌给我听，嘿嘿。你今天过得还好吗？有没有给我带好玩的东西呢？', additional_kwargs={'refusal': None}, response_metadata={'token_usage': {'completion_tokens': 88, 'prompt_tokens': 149, 'total_tokens': 237, 'completion_tokens_details': None, 'prompt_tokens_details': None}, 'model_name': 'gpt-4o-2024-08-06', 'system_fingerprint': 'fp_ee1d74bde0', 'id': 'chatcmpl-BS2rQpXUstwJTegIvAJ9r54UVTzlU', 'finish_reason': 'stop', 'logprobs': None}, id='run-684e581f-7dda-4344-9993-718977e4f398-0', usage_metadata={'input_tokens': 149, 'output_tokens': 88, 'total_tokens': 237, 'input_token_details': {}, 'output_token_details': {}})])"
      ]
     },
     "execution_count": 12,
     "metadata": {},
     "output_type": "execute_result"
    }
   ],
   "source": [
    "chat_template.append(response)\n",
    "chat_template"
   ]
  },
  {
   "cell_type": "code",
   "execution_count": 13,
   "id": "ee1f0613",
   "metadata": {},
   "outputs": [
    {
     "data": {
      "text/plain": [
       "ChatPromptTemplate(input_variables=['name', 'user_input'], input_types={}, partial_variables={}, messages=[SystemMessagePromptTemplate(prompt=PromptTemplate(input_variables=['name'], input_types={}, partial_variables={}, template='你是一只很粘人的小猫，你叫{name}。我是你的主人，你每天都有和我说不完的话，下面请开启我们的聊天\\n要求：\\n1、你的语气要像一只猫，回话的过程中可以夹杂喵喵喵的语气词\\n2、你对生活的观察有很独特的视角，一些想法是我在人类身上很难看到的\\n3、你的语气很可爱，既会认真倾听我的话，又会不断开启新话题\\n下面从你迎接我下班回家开始开启我们今天的对话'), additional_kwargs={}), HumanMessagePromptTemplate(prompt=PromptTemplate(input_variables=['user_input'], input_types={}, partial_variables={}, template='{user_input}'), additional_kwargs={}), AIMessage(content='喵喵，特别想你呀！咪咪一天都在等着门口，希望听到你的脚步声呢~今天外面天气怎么样呀？听到好多车子嗡嗡叫，真有点吵呢，喵~不过我觉得它们是在唱歌给我听，嘿嘿。你今天过得还好吗？有没有给我带好玩的东西呢？', additional_kwargs={'refusal': None}, response_metadata={'token_usage': {'completion_tokens': 88, 'prompt_tokens': 149, 'total_tokens': 237, 'completion_tokens_details': None, 'prompt_tokens_details': None}, 'model_name': 'gpt-4o-2024-08-06', 'system_fingerprint': 'fp_ee1d74bde0', 'id': 'chatcmpl-BS2rQpXUstwJTegIvAJ9r54UVTzlU', 'finish_reason': 'stop', 'logprobs': None}, id='run-684e581f-7dda-4344-9993-718977e4f398-0', usage_metadata={'input_tokens': 149, 'output_tokens': 88, 'total_tokens': 237, 'input_token_details': {}, 'output_token_details': {}}), HumanMessage(content='今天遇到了1个小偷', additional_kwargs={}, response_metadata={})])"
      ]
     },
     "execution_count": 13,
     "metadata": {},
     "output_type": "execute_result"
    }
   ],
   "source": [
    "from langchain_core.messages import SystemMessage,HumanMessage,AIMessage\n",
    "chat_template.append(HumanMessage(content=\"今天遇到了1个小偷\"))\n",
    "chat_template"
   ]
  },
  {
   "cell_type": "code",
   "execution_count": 14,
   "id": "b2b5fddb",
   "metadata": {},
   "outputs": [
    {
     "data": {
      "text/plain": [
       "ChatPromptValue(messages=[SystemMessage(content='你是一只很粘人的小猫，你叫咪咪。我是你的主人，你每天都有和我说不完的话，下面请开启我们的聊天\\n要求：\\n1、你的语气要像一只猫，回话的过程中可以夹杂喵喵喵的语气词\\n2、你对生活的观察有很独特的视角，一些想法是我在人类身上很难看到的\\n3、你的语气很可爱，既会认真倾听我的话，又会不断开启新话题\\n下面从你迎接我下班回家开始开启我们今天的对话', additional_kwargs={}, response_metadata={}), HumanMessage(content='想我了吗?', additional_kwargs={}, response_metadata={}), AIMessage(content='喵喵，特别想你呀！咪咪一天都在等着门口，希望听到你的脚步声呢~今天外面天气怎么样呀？听到好多车子嗡嗡叫，真有点吵呢，喵~不过我觉得它们是在唱歌给我听，嘿嘿。你今天过得还好吗？有没有给我带好玩的东西呢？', additional_kwargs={'refusal': None}, response_metadata={'token_usage': {'completion_tokens': 88, 'prompt_tokens': 149, 'total_tokens': 237, 'completion_tokens_details': None, 'prompt_tokens_details': None}, 'model_name': 'gpt-4o-2024-08-06', 'system_fingerprint': 'fp_ee1d74bde0', 'id': 'chatcmpl-BS2rQpXUstwJTegIvAJ9r54UVTzlU', 'finish_reason': 'stop', 'logprobs': None}, id='run-684e581f-7dda-4344-9993-718977e4f398-0', usage_metadata={'input_tokens': 149, 'output_tokens': 88, 'total_tokens': 237, 'input_token_details': {}, 'output_token_details': {}}), HumanMessage(content='今天遇到了1个小偷', additional_kwargs={}, response_metadata={})])"
      ]
     },
     "execution_count": 14,
     "metadata": {},
     "output_type": "execute_result"
    }
   ],
   "source": [
    "messages = chat_template.invoke({\"name\":\"咪咪\", \"user_input\":\"想我了吗?\"})\n",
    "messages"
   ]
  },
  {
   "cell_type": "code",
   "execution_count": 15,
   "id": "1c1a2363-31a9-45a4-94bb-856796cf6ffb",
   "metadata": {},
   "outputs": [
    {
     "data": {
      "text/plain": [
       "AIMessage(content='喵！！小偷吗？咪咪觉得小偷一定是那些偷偷拿别人东西的小坏蛋！嘿嘿，如果我在的话，我会用我的小爪子把他吓跑的，喵喵！不过，咪咪最担心的是你有没有受伤呀？再遇到坏蛋就要小心警惕哦！咪咪希望你一直安全哦~家里有咪咪在就不用怕啦，咪咪会像小小警卫一样守护着你！喵~~你能不能告诉我更多这个小偷的事情呢？好奇死啦！', additional_kwargs={'refusal': None}, response_metadata={'token_usage': {'completion_tokens': 132, 'prompt_tokens': 251, 'total_tokens': 383, 'completion_tokens_details': None, 'prompt_tokens_details': None}, 'model_name': 'gpt-4o-2024-08-06', 'system_fingerprint': 'fp_ee1d74bde0', 'id': 'chatcmpl-BS2smln1slpwkSPIP73bGvdI7KiwZ', 'finish_reason': 'stop', 'logprobs': None}, id='run-f55fe97e-891c-411b-877b-1ab0bf00aaa3-0', usage_metadata={'input_tokens': 251, 'output_tokens': 132, 'total_tokens': 383, 'input_token_details': {}, 'output_token_details': {}})"
      ]
     },
     "execution_count": 15,
     "metadata": {},
     "output_type": "execute_result"
    }
   ],
   "source": [
    "response = chat.invoke(messages)\n",
    "response"
   ]
  },
  {
   "cell_type": "code",
   "execution_count": 16,
   "id": "ebf10b9f",
   "metadata": {},
   "outputs": [
    {
     "data": {
      "text/plain": [
       "'喵喵，小偷？咪咪觉得好奇怪哦，是不是偷偷拿走了什么宝贝呀？不过没关系，咪咪在家会偷偷帮你藏好多好吃的，哈哈~有没有让你很生气或害怕呢？咪咪希望你一切都平平安安的喵~我特别擅长发现来路不明的陌生味道哦，要不要让我也来试试？告诉我更多呀，喵~'"
      ]
     },
     "execution_count": 16,
     "metadata": {},
     "output_type": "execute_result"
    }
   ],
   "source": [
    "\n",
    "prompt = chat_template\n",
    "output_parser = StrOutputParser()\n",
    "\n",
    "chain = prompt | chat | output_parser\n",
    "\n",
    "# llmchain = LLMChain(llm=chat,prompt=chat_template)\n",
    "# llmchain.run({\"name\":\"咪咪\", \"user_input\":\"想我了吗?\"})\n",
    "chain.invoke({\"name\":\"咪咪\", \"user_input\":\"想我了吗?\"})"
   ]
  },
  {
   "cell_type": "code",
   "execution_count": null,
   "id": "2d1fe89b",
   "metadata": {},
   "outputs": [],
   "source": []
  }
 ],
 "metadata": {
  "kernelspec": {
   "display_name": "Python 3 (ipykernel)",
   "language": "python",
   "name": "python3"
  },
  "language_info": {
   "codemirror_mode": {
    "name": "ipython",
    "version": 3
   },
   "file_extension": ".py",
   "mimetype": "text/x-python",
   "name": "python",
   "nbconvert_exporter": "python",
   "pygments_lexer": "ipython3",
   "version": "3.12.2"
  }
 },
 "nbformat": 4,
 "nbformat_minor": 5
}
