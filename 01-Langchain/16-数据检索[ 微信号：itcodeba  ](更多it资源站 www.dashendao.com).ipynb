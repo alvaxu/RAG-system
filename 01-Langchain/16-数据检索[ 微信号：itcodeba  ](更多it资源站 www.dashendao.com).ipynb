{
 "cells": [
  {
   "cell_type": "markdown",
   "id": "8a34796c",
   "metadata": {},
   "source": [
    "## 数据检索\n",
    "用户输入只是问题，答案需要从已知的数据库或者文档中获取。因此，我们需要使用检索器获取上下文，并通过“question”键下的用户输入。\n",
    "\n",
    "### RAG\n",
    "检索增强生成（Retrieval-augmented Generation，RAG），是当下最热门的大模型前沿技术之一。如果将“微调（finetune）”理解成大模型内化吸收知识的过程，那么RAG就相当于给大模型装上了“知识外挂”，基础大模型不用再训练即可随时调用特定领域知识。"
   ]
  },
  {
   "cell_type": "code",
   "execution_count": 37,
   "id": "b1dce1f1",
   "metadata": {},
   "outputs": [],
   "source": [
    "from langchain_community.vectorstores import FAISS\n",
    "from langchain_huggingface import HuggingFaceEmbeddings\n",
    "embeddings_path = 'D:\\\\AInewModels\\\\BAAI\\\\bge-m3'\n",
    "embeddings = HuggingFaceEmbeddings(model_name=embeddings_path)"
   ]
  },
  {
   "cell_type": "code",
   "execution_count": 40,
   "id": "93c58daf",
   "metadata": {},
   "outputs": [
    {
     "data": {
      "text/plain": [
       "<langchain_community.vectorstores.faiss.FAISS at 0x1d706578860>"
      ]
     },
     "execution_count": 40,
     "metadata": {},
     "output_type": "execute_result"
    }
   ],
   "source": [
    "vectorstore = FAISS.from_texts(\n",
    "    [\"小明在华为工作\",\"熊喜欢吃蜂蜜\",\"我喜欢种花\"],\n",
    "    embedding=embeddings\n",
    ")\n",
    "vectorstore\n",
    "\n"
   ]
  },
  {
   "cell_type": "code",
   "execution_count": 41,
   "id": "38c41de1",
   "metadata": {},
   "outputs": [],
   "source": [
    "#使用向量数据库生成检索器\n",
    "retriever = vectorstore.as_retriever(search_kwargs={\"k\": 2})"
   ]
  },
  {
   "cell_type": "code",
   "execution_count": 42,
   "id": "be0b596f",
   "metadata": {},
   "outputs": [
    {
     "data": {
      "text/plain": [
       "[Document(id='18c7b63c-b0b7-424c-b861-18fd231e28c5', metadata={}, page_content='熊喜欢吃蜂蜜'),\n",
       " Document(id='c8517df3-7035-4af7-aab2-343385a86dd4', metadata={}, page_content='我喜欢种花')]"
      ]
     },
     "execution_count": 42,
     "metadata": {},
     "output_type": "execute_result"
    }
   ],
   "source": [
    "retriever.invoke(\"熊喜欢吃什么？\")"
   ]
  },
  {
   "cell_type": "code",
   "execution_count": 29,
   "id": "316b7060-65ed-4f0b-bdb8-a657aa320e7d",
   "metadata": {},
   "outputs": [],
   "source": [
    "retriever = vectorstore.as_retriever(search_kwargs={\"score_threshold\": 0.7})"
   ]
  },
  {
   "cell_type": "code",
   "execution_count": 30,
   "id": "c556f566-665a-46ad-8fed-fa44915278bd",
   "metadata": {},
   "outputs": [
    {
     "data": {
      "text/plain": [
       "[Document(id='68f82581-5c6c-45be-a6da-f641b679f291', metadata={}, page_content='小明在华为工作')]"
      ]
     },
     "execution_count": 30,
     "metadata": {},
     "output_type": "execute_result"
    }
   ],
   "source": [
    "retriever.invoke(\"小明在哪里工作？\")"
   ]
  },
  {
   "cell_type": "code",
   "execution_count": null,
   "id": "f1eb7269-cac4-4d7c-afdd-4d04b3f61364",
   "metadata": {},
   "outputs": [],
   "source": [
    "help( vectorstore.as_retriever)"
   ]
  },
  {
   "cell_type": "code",
   "execution_count": 31,
   "id": "a8cbf7f1",
   "metadata": {},
   "outputs": [],
   "source": [
    "from langchain_openai import ChatOpenAI, OpenAI\n",
    "API_KEY=\"sk-kEjwwIwe4w4EhkfGei4kNkawKIZeyEfezSdLfiyJrR4jdgPl\"\n",
    "BASE_URL = \"https://api.fe8.cn/v1\"\n",
    "MODEL= \"gpt-4o-mini\"\n",
    "EMBEDDING_MODEL =\"text-embedding-3-small\"\n",
    "\n",
    "model = ChatOpenAI(\n",
    "    model=MODEL,\n",
    "    openai_api_key=API_KEY,\n",
    "    openai_api_base=BASE_URL,\n",
    "    temperature=0.3,\n",
    ")\n"
   ]
  },
  {
   "cell_type": "code",
   "execution_count": 33,
   "id": "c7abdb3c",
   "metadata": {},
   "outputs": [
    {
     "data": {
      "text/plain": [
       "ChatPromptTemplate(input_variables=['context', 'question'], input_types={}, partial_variables={}, messages=[HumanMessagePromptTemplate(prompt=PromptTemplate(input_variables=['context', 'question'], input_types={}, partial_variables={}, template='\\n只根据以下文档回答问题：\\n{context}\\n\\n问题：{question}\\n'), additional_kwargs={})])"
      ]
     },
     "execution_count": 33,
     "metadata": {},
     "output_type": "execute_result"
    }
   ],
   "source": [
    "# 1.建立Prompt\n",
    "from langchain_core.prompts import ChatPromptTemplate\n",
    "\n",
    "template =\"\"\"\n",
    "只根据以下文档回答问题：\n",
    "{context}\n",
    "\n",
    "问题：{question}\n",
    "\"\"\"\n",
    "\n",
    "prompt = ChatPromptTemplate.from_template(template)\n",
    "prompt"
   ]
  },
  {
   "cell_type": "code",
   "execution_count": 23,
   "id": "3b445a01",
   "metadata": {},
   "outputs": [],
   "source": [
    "# 2。建setup_and_retrieval和outputParser\n",
    "from langchain_core.runnables import RunnableParallel,RunnablePassthrough\n",
    "from langchain_core.output_parsers import StrOutputParser\n",
    "\n",
    "outputParser = StrOutputParser()\n",
    "\n",
    "setup_and_retrieval = RunnableParallel(\n",
    "    {\n",
    "        \"context\":retriever,\n",
    "        \"question\":RunnablePassthrough()\n",
    "    }\n",
    ")\n",
    "\n",
    "chain = setup_and_retrieval | prompt | model | outputParser"
   ]
  },
  {
   "cell_type": "code",
   "execution_count": null,
   "id": "b2e402cc-101c-4fc0-a869-4a1f173b376e",
   "metadata": {},
   "outputs": [],
   "source": [
    "help(RunnableParallel)"
   ]
  },
  {
   "cell_type": "code",
   "execution_count": 24,
   "id": "b95952b6",
   "metadata": {},
   "outputs": [
    {
     "data": {
      "text/plain": [
       "'小明在华为工作。'"
      ]
     },
     "execution_count": 24,
     "metadata": {},
     "output_type": "execute_result"
    }
   ],
   "source": [
    "chain.invoke(\"小明在哪里工作？\")"
   ]
  },
  {
   "cell_type": "code",
   "execution_count": 34,
   "id": "cb888747",
   "metadata": {},
   "outputs": [
    {
     "data": {
      "text/plain": [
       "'小明在华为工作。'"
      ]
     },
     "execution_count": 34,
     "metadata": {},
     "output_type": "execute_result"
    }
   ],
   "source": [
    "#完整链式（直接使用链式)\n",
    "chain = (\n",
    "    {\"context\": retriever, \"question\": RunnablePassthrough()}\n",
    "    | prompt\n",
    "    | model\n",
    "    | StrOutputParser()\n",
    ")\n",
    "\n",
    "chain.invoke(\"小明在哪里工作？\")"
   ]
  },
  {
   "cell_type": "code",
   "execution_count": 35,
   "id": "deb624a4",
   "metadata": {},
   "outputs": [
    {
     "data": {
      "text/plain": [
       "'主人，小明在华为工作。'"
      ]
     },
     "execution_count": 35,
     "metadata": {},
     "output_type": "execute_result"
    }
   ],
   "source": [
    "from operator import itemgetter\n",
    "\n",
    "template =\"\"\"\n",
    "只根据以下文档回答问题：\n",
    "{context}\n",
    "\n",
    "问题：{question}\n",
    "回答问题请加上称呼\"{name}\"。\n",
    "\"\"\"\n",
    "prompt = ChatPromptTemplate.from_template(template)\n",
    "\n",
    "chain = (\n",
    "    {\n",
    "        \"context\": itemgetter(\"question\") | retriever,   #将question也要传给retriever\n",
    "        \"question\": itemgetter(\"question\"),\n",
    "        \"name\": itemgetter(\"name\"),\n",
    "    }\n",
    "    | prompt\n",
    "    | model\n",
    "    | StrOutputParser()\n",
    ")\n",
    "\n",
    "chain.invoke({\"question\":\"小明在哪里工作？\",\"name\":\"主人\"})"
   ]
  }
 ],
 "metadata": {
  "kernelspec": {
   "display_name": "Python 3 (ipykernel)",
   "language": "python",
   "name": "python3"
  },
  "language_info": {
   "codemirror_mode": {
    "name": "ipython",
    "version": 3
   },
   "file_extension": ".py",
   "mimetype": "text/x-python",
   "name": "python",
   "nbconvert_exporter": "python",
   "pygments_lexer": "ipython3",
   "version": "3.12.2"
  }
 },
 "nbformat": 4,
 "nbformat_minor": 5
}
