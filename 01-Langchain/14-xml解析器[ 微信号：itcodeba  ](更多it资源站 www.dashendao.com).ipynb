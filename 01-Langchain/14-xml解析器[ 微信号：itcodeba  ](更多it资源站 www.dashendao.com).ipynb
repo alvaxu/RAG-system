{
 "cells": [
  {
   "cell_type": "markdown",
   "id": "da0834d9",
   "metadata": {},
   "source": [
    "该输出解析器允许用户以流行的 XML 格式从 LLM 获取结果。\n",
    "\n",
    "请记住，大型语言模型是有漏洞的抽象！您必须使用具有足够容量的 LLM 来生成格式正确的 XML。\n",
    "\n",
    "\n"
   ]
  },
  {
   "cell_type": "code",
   "execution_count": 2,
   "id": "230bb000",
   "metadata": {},
   "outputs": [],
   "source": [
    "from langchain.output_parsers import XMLOutputParser\n",
    "from langchain.prompts import PromptTemplate\n",
    "from langchain_openai import ChatOpenAI, OpenAI\n",
    "\n",
    "API_KEY=\"sk-9846f14a2104490b960adbf5c5b3b32e\" #老师的Key\n",
    "BASE_URL = \"https://api.deepseek.com\"\n",
    "MODEL= \"deepseek-chat\"\n",
    "\n",
    "chat = ChatOpenAI(\n",
    "    model= MODEL,  # 默认的大模型为GPT-3.5-turbo，比较便宜\n",
    "    openai_api_base= BASE_URL,\n",
    "    openai_api_key= API_KEY,\n",
    "    temperature=0.3,\n",
    ")\n"
   ]
  },
  {
   "cell_type": "code",
   "execution_count": 3,
   "id": "aa3c25d5",
   "metadata": {},
   "outputs": [
    {
     "name": "stdout",
     "output_type": "stream",
     "text": [
      "```xml\n",
      "<xml>\n",
      "<movie>阿甘正传</movie>\n",
      "<movie>拯救大兵瑞恩</movie>\n",
      "<movie>荒岛余生</movie>\n",
      "<movie>费城故事</movie>\n",
      "<movie>绿色奇迹</movie>\n",
      "<movie>西雅图夜未眠</movie>\n",
      "<movie>猫鼠游戏</movie>\n",
      "<movie>达芬奇密码</movie>\n",
      "<movie>萨利机长</movie>\n",
      "<movie>玩具总动员系列</movie>\n",
      "</xml>\n",
      "```\n"
     ]
    }
   ],
   "source": [
    "#直接用提示词调用chat.invoke解决xml输出问题\n",
    "\n",
    "actor_query = \"生成汤姆·汉克斯的电影目录。\"\n",
    "output = chat.invoke(\n",
    "    f\"\"\"{actor_query}\n",
    "\n",
    "响应以xml的结构返回，使用如下xml结构\n",
    "```\n",
    "<xml>\n",
    "<movie>电影1</movie>\n",
    "<movie>电影2</movie>\n",
    "<xml>\n",
    "``` \n",
    "\"\"\"\n",
    ")\n",
    "print(output.content)"
   ]
  },
  {
   "cell_type": "code",
   "execution_count": 4,
   "id": "aa4aa5c6",
   "metadata": {},
   "outputs": [
    {
     "data": {
      "text/plain": [
       "{'xml': [{'movie': '阿甘正传'},\n",
       "  {'movie': '拯救大兵瑞恩'},\n",
       "  {'movie': '荒岛余生'},\n",
       "  {'movie': '费城故事'},\n",
       "  {'movie': '绿色奇迹'},\n",
       "  {'movie': '西雅图夜未眠'},\n",
       "  {'movie': '猫鼠游戏'},\n",
       "  {'movie': '达芬奇密码'},\n",
       "  {'movie': '萨利机长'},\n",
       "  {'movie': '玩具总动员系列'}]}"
      ]
     },
     "execution_count": 4,
     "metadata": {},
     "output_type": "execute_result"
    }
   ],
   "source": [
    "#对chat.invoke的输出，调用Parser进行解析输出。\n",
    "parser = XMLOutputParser()\n",
    "parser.invoke(output)"
   ]
  },
  {
   "cell_type": "code",
   "execution_count": 10,
   "id": "97299447-89a8-4b39-9b04-8e92d3365c83",
   "metadata": {},
   "outputs": [
    {
     "data": {
      "text/plain": [
       "'响应以xml的结构返回，使用如下xml结构\\n```\\n<xml>\\n<movie>电影1</movie>\\n<movie>电影2</movie>\\n<xml>\\n```\\n'"
      ]
     },
     "execution_count": 10,
     "metadata": {},
     "output_type": "execute_result"
    }
   ],
   "source": [
    "#方式一，显式说明format_instructions，以便用中文显式\n",
    "parser = XMLOutputParser()\n",
    "format_instructions = \"\"\"响应以xml的结构返回，使用如下xml结构\n",
    "```\n",
    "<xml>\n",
    "<movie>电影1</movie>\n",
    "<movie>电影2</movie>\n",
    "<xml>\n",
    "```\n",
    "\"\"\"\n",
    "format_instructions"
   ]
  },
  {
   "cell_type": "code",
   "execution_count": 11,
   "id": "20ee0e25-30b8-45b2-9170-bc22659df9fa",
   "metadata": {},
   "outputs": [
    {
     "name": "stdout",
     "output_type": "stream",
     "text": [
      "{'xml': [{'movie': '漂亮女人'}, {'movie': '诺丁山'}, {'movie': '永不妥协'}, {'movie': '风月俏佳人'}, {'movie': '我最好朋友的婚礼'}, {'movie': '蒙娜丽莎的微笑'}, {'movie': '美食、祈祷和恋爱'}, {'movie': '奇迹男孩'}, {'movie': '八月：奥色治郡'}, {'movie': '钢木兰'}]}\n"
     ]
    }
   ],
   "source": [
    "query = \"生成朱丽叶罗伯茨的电影目录。\"\n",
    "prompt = PromptTemplate(\n",
    "    template=\"\"\"{query}\\n{format_instructions}\"\"\",\n",
    "    input_variables=[\"query\"],\n",
    "    partial_variables={\"format_instructions\":format_instructions},\n",
    ")\n",
    "\n",
    "chain = prompt | chat | parser\n",
    "\n",
    "output = chain.invoke({\"query\": query})\n",
    "print(output)"
   ]
  },
  {
   "cell_type": "code",
   "execution_count": 8,
   "id": "a415058b-69be-44a2-aa78-e56431691e8f",
   "metadata": {},
   "outputs": [
    {
     "data": {
      "text/plain": [
       "'The output should be formatted as a XML file.\\n1. Output should conform to the tags below.\\n2. If tags are not given, make them on your own.\\n3. Remember to always open and close all the tags.\\n\\nAs an example, for the tags [\"foo\", \"bar\", \"baz\"]:\\n1. String \"<foo>\\n   <bar>\\n      <baz></baz>\\n   </bar>\\n</foo>\" is a well-formatted instance of the schema.\\n2. String \"<foo>\\n   <bar>\\n   </foo>\" is a badly-formatted instance.\\n3. String \"<foo>\\n   <tag>\\n   </tag>\\n</foo>\" is a badly-formatted instance.\\n\\nHere are the output tags:\\n```\\nNone\\n```'"
      ]
     },
     "execution_count": 8,
     "metadata": {},
     "output_type": "execute_result"
    }
   ],
   "source": [
    "#方式二，调用parser.get_format_instructions说明format_instructions，一般结果会是英文显式\n",
    "parser = XMLOutputParser()\n",
    "format_instructions =  parser.get_format_instructions()\n",
    "format_instructions"
   ]
  },
  {
   "cell_type": "code",
   "execution_count": 9,
   "id": "3f0b1e63",
   "metadata": {},
   "outputs": [
    {
     "name": "stdout",
     "output_type": "stream",
     "text": [
      "{'Filmography': [{'Actor': [{'Name': 'Julia Roberts'}, {'Movies': [{'Movie': [{'Title': 'Pretty Woman'}, {'Year': '1990'}]}, {'Movie': [{'Title': 'Erin Brockovich'}, {'Year': '2000'}]}, {'Movie': [{'Title': 'Notting Hill'}, {'Year': '1999'}]}, {'Movie': [{'Title': \"Ocean's Eleven\"}, {'Year': '2001'}]}, {'Movie': [{'Title': \"My Best Friend's Wedding\"}, {'Year': '1997'}]}, {'Movie': [{'Title': 'Runaway Bride'}, {'Year': '1999'}]}, {'Movie': [{'Title': 'Steel Magnolias'}, {'Year': '1989'}]}, {'Movie': [{'Title': 'Eat Pray Love'}, {'Year': '2010'}]}, {'Movie': [{'Title': 'The Pelican Brief'}, {'Year': '1993'}]}, {'Movie': [{'Title': 'August: Osage County'}, {'Year': '2013'}]}]}]}]}\n"
     ]
    }
   ],
   "source": [
    "query = \"生成朱丽叶罗伯茨的电影目录。\"\n",
    "prompt = PromptTemplate(\n",
    "    template=\"\"\"{query}\\n{format_instructions}\"\"\",\n",
    "    input_variables=[\"query\"],\n",
    "    partial_variables={\"format_instructions\":format_instructions},\n",
    ")\n",
    "\n",
    "chain = prompt | chat | parser\n",
    "\n",
    "output = chain.invoke({\"query\": query})\n",
    "print(output)"
   ]
  },
  {
   "cell_type": "code",
   "execution_count": null,
   "id": "76c3a6aa",
   "metadata": {},
   "outputs": [],
   "source": []
  }
 ],
 "metadata": {
  "kernelspec": {
   "display_name": "Python 3 (ipykernel)",
   "language": "python",
   "name": "python3"
  },
  "language_info": {
   "codemirror_mode": {
    "name": "ipython",
    "version": 3
   },
   "file_extension": ".py",
   "mimetype": "text/x-python",
   "name": "python",
   "nbconvert_exporter": "python",
   "pygments_lexer": "ipython3",
   "version": "3.12.2"
  }
 },
 "nbformat": 4,
 "nbformat_minor": 5
}
