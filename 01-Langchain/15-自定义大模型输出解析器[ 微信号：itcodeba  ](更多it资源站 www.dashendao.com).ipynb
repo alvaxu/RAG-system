{
 "cells": [
  {
   "cell_type": "markdown",
   "id": "a48fc8ee",
   "metadata": {},
   "source": [
    "## 自定义输出解析器\n",
    "\n",
    "在某些情况下，您可能希望实现自定义解析器以将模型输出构造为自定义格式。\n",
    "\n",
    "有两种方法可以实现自定义解析器：\n",
    "- 在 LCEL 中使用 RunnableLambda 或 RunnableGenerator – 我们强烈建议大多数用例使用此方法\n",
    "- 通过从基类之一继承进行解析——这是困难方法\n",
    "\n",
    "这两种方法之间的差异大多是表面的，主要在于触发哪些回调（例如， on_chain_start 与 on_parser_start ）\n",
    "\n",
    "### 可运行的 Lambda 和生成器\n",
    "\n",
    "推荐的解析方法是使用可运行的 lambda 和可运行的生成器！\n",
    "\n",
    "在这里，我们将进行一个简单的解析，反转模型输出的大小写。\n",
    "\n",
    "例如，如果模型输出：“Meow”，解析器将生成“mEOW”。\n"
   ]
  },
  {
   "cell_type": "code",
   "execution_count": 2,
   "id": "e6dde69d",
   "metadata": {},
   "outputs": [
    {
     "data": {
      "text/plain": [
       "'hELLO! 😊 hOW CAN i ASSIST YOU TODAY?'"
      ]
     },
     "execution_count": 2,
     "metadata": {},
     "output_type": "execute_result"
    }
   ],
   "source": [
    "from typing import Iterable\n",
    "from langchain_core.messages import AIMessage, AIMessageChunk\n",
    "\n",
    "from langchain_openai import ChatOpenAI, OpenAI\n",
    "API_KEY=\"sk-9846f14a2104490b960adbf5c5b3b32e\" #老师的Key\n",
    "BASE_URL = \"https://api.deepseek.com\"\n",
    "MODEL= \"deepseek-chat\"\n",
    "\n",
    "chat = ChatOpenAI(\n",
    "    model= MODEL,  # 默认的大模型为GPT-3.5-turbo，比较便宜\n",
    "    openai_api_base= BASE_URL,\n",
    "    openai_api_key= API_KEY,\n",
    "    temperature=0.3,\n",
    ")\n",
    "\n",
    "\n",
    "def parse(ai_message: AIMessage) -> str:\n",
    "    \"\"\"Parse the AI message.\"\"\"\n",
    "    return ai_message.content.swapcase()\n",
    "\n",
    "\n",
    "chain = chat | parse\n",
    "chain.invoke(\"Hello\")"
   ]
  },
  {
   "cell_type": "code",
   "execution_count": 3,
   "id": "d64db155",
   "metadata": {},
   "outputs": [
    {
     "name": "stdout",
     "output_type": "stream",
     "text": [
      "**tHE lAST lIGHT**  \n",
      "\n",
      "iN A QUIET VILLAGE NESTLED BETWEEN MISTY MOUNTAINS, AN OLD LAMPLIGHTER NAMED eLIAS LIT THE STREETLIGHTS EVERY EVENING. tHE VILLAGERS RELIED ON HIS STEADY ROUTINE—UNTIL ONE NIGHT, THE LIGHTS WOULDN’T STAY LIT.  \n",
      "\n",
      "wHISPERS SPREAD OF A SHADOW CREEPING THROUGH THE STREETS, EXTINGUISHING EACH FLAME. dETERMINED, eLIAS CARRIED HIS LAST LANTERN INTO THE HEART OF THE DARKNESS.  \n",
      "\n",
      "\"wHO ARE YOU?\" HE CALLED.  \n",
      "\n",
      "tHE SHADOW PAUSED. \"i AM fORGOTTEN,\" IT MURMURED. \"nO ONE REMEMBERS THE PAST, SO i TAKE THE LIGHT.\"  \n",
      "\n",
      "eLIAS SMILED SADLY. \"tHEN LET ME REMIND YOU.\" hE SPOKE OF FESTIVALS, LAUGHTER, AND LOVE—UNTIL THE SHADOW SHRANK, AND THE LANTERN BLAZED BRIGHTER THAN EVER.  \n",
      "\n",
      "tHE NEXT MORNING, THE VILLAGE FOUND eLIAS GONE, BUT THE LIGHTS BURNED ON THEIR OWN. aND SOMETIMES, IN THE FLICKER, THEY SWORE THEY SAW HIS FACE.  \n",
      "\n",
      "**tHE eND.**  \n",
      "\n",
      "wOULD YOU LIKE A DIFFERENT THEME OR STYLE? 😊"
     ]
    }
   ],
   "source": [
    "for chunk in chain.stream(\"tell me a shot story\"):\n",
    "    print(chunk, end=\"\")"
   ]
  },
  {
   "cell_type": "code",
   "execution_count": 4,
   "id": "07d36bc4",
   "metadata": {},
   "outputs": [],
   "source": [
    "from langchain_core.runnables import RunnableGenerator\n",
    "\n",
    "\n",
    "def streaming_parse(chunks: Iterable[AIMessageChunk]) -> Iterable[str]:\n",
    "    for chunk in chunks:\n",
    "        yield chunk.content.swapcase()\n",
    "\n",
    "\n",
    "streaming_parse = RunnableGenerator(streaming_parse)"
   ]
  },
  {
   "cell_type": "code",
   "execution_count": 5,
   "id": "2329f08b",
   "metadata": {},
   "outputs": [
    {
     "name": "stdout",
     "output_type": "stream",
     "text": [
      "**tHE lOST sTAR**  \n",
      "\n",
      "oNCE UPON A TIME, IN A SKY FILLED WITH COUNTLESS SHIMMERING STARS, THERE WAS A TINY STAR NAMED **lUNA**. uNLIKE THE OTHER STARS, lUNA WAS RESTLESS—SHE LONGED TO SEE THE WORLD BELOW, WHERE THE MOUNTAINS TOUCHED THE CLOUDS AND THE OCEANS SPARKLED UNDER THE MOONLIGHT.  \n",
      "\n",
      "oNE NIGHT, WHEN THE WIND WAS STRONG, lUNA MADE A DARING DECISION. sHE LET GO OF THE SKY AND TUMBLED DOWN, LANDING SOFTLY IN A QUIET MEADOW. aT FIRST, SHE WAS THRILLED—FIREFLIES DANCED AROUND HER, AND THE SCENT OF WILDFLOWERS FILLED THE AIR. bUT SOON, SHE REALIZED SHE WAS LOST. wITHOUT HER PLACE IN THE SKY, SHE BEGAN TO DIM.  \n",
      "\n",
      "a LITTLE GIRL NAMED **mIRA**, WHO LOVED STARGAZING, NOTICED THE FAINT GLOW IN THE GRASS. sHE CAREFULLY PICKED UP lUNA AND WHISPERED, *\"yOU DON’T BELONG HERE, DO YOU?\"*  \n",
      "\n",
      "wITH A KIND HEART, mIRA CLIMBED THE TALLEST HILL, HELD lUNA UP HIGH, AND SANG A LULLABY HER GRANDMOTHER HAD TAUGHT HER. aS IF ANSWERING HER CALL, THE NIGHT SKY SHIMMERED, AND A GENTLE BREEZE LIFTED lUNA BACK INTO THE HEAVENS.  \n",
      "\n",
      "tHAT NIGHT, A NEW STAR TWINKLED BRIGHTER THAN EVER BEFORE—RIGHT BESIDE THE nORTH sTAR, WHERE lUNA WOULD NEVER FEEL LOST AGAIN. aND WHENEVER mIRA LOOKED UP, SHE SMILED, KNOWING SHE HAD HELPED A STAR FIND ITS WAY HOME.  \n",
      "\n",
      "**tHE eND.** 🌟  \n",
      "\n",
      "wOULD YOU LIKE A DIFFERENT KIND OF STORY NEXT TIME—MAYBE AN ADVENTURE OR A MYSTERY?"
     ]
    }
   ],
   "source": [
    "chain = chat | streaming_parse\n",
    "for chunk in chain.stream(\"tell me a story\"):\n",
    "    print(chunk, end=\"\")"
   ]
  },
  {
   "cell_type": "markdown",
   "id": "62213ef3",
   "metadata": {},
   "source": []
  },
  {
   "cell_type": "code",
   "execution_count": null,
   "id": "ddbf6ea8",
   "metadata": {},
   "outputs": [],
   "source": []
  }
 ],
 "metadata": {
  "kernelspec": {
   "display_name": "Python 3 (ipykernel)",
   "language": "python",
   "name": "python3"
  },
  "language_info": {
   "codemirror_mode": {
    "name": "ipython",
    "version": 3
   },
   "file_extension": ".py",
   "mimetype": "text/x-python",
   "name": "python",
   "nbconvert_exporter": "python",
   "pygments_lexer": "ipython3",
   "version": "3.12.2"
  }
 },
 "nbformat": 4,
 "nbformat_minor": 5
}
