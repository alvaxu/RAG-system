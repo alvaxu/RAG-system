{
 "cells": [
  {
   "cell_type": "markdown",
   "id": "28e130e3",
   "metadata": {},
   "source": [
    "## CSV解析器\n",
    "\n",
    "当您想要返回以逗号分隔的项目列表时，可以使用此输出解析器。\n",
    "\n"
   ]
  },
  {
   "cell_type": "code",
   "execution_count": 15,
   "id": "8e483375",
   "metadata": {},
   "outputs": [
    {
     "data": {
      "text/plain": [
       "AIMessage(content='### 问题陈述\\n**问题：** 请问2只兔子有多少条腿？\\n\\n### 初步理解\\n首先，我们需要明确几个关键信息：\\n1. **兔子的腿的数量**：通常，兔子有四条腿。\\n2. **兔子的数量**：题目中给出的是两只兔子。\\n\\n### 验证兔子的腿数\\n为了确保我们的理解正确，让我们先确认一只兔子有多少条腿。根据生物学常识：\\n- 兔子属于哺乳动物，哺乳动物通常有四条腿（前肢和后肢各两条）。\\n- 具体到兔子，它们有两条前腿和两条后腿，总共四条腿。\\n\\n### 计算两只兔子的腿数\\n既然一只兔子有四条腿，那么两只兔子的腿数就是：\\n\\\\[ \\\\text{腿的总数} = \\\\text{一只兔子的腿数} \\\\times \\\\text{兔子的数量} \\\\]\\n\\\\[ \\\\text{腿的总数} = 4 \\\\times 2 = 8 \\\\]\\n\\n### 可能的误区\\n在解决这个问题时，可能会有以下一些误区：\\n1. **忽略兔子的正常腿数**：有人可能会误以为兔子有两条腿或六条腿等不常见的数量。\\n   - 纠正：通过观察或生物学知识确认兔子有四条腿。\\n2. **计算错误**：在乘法运算中可能会算错，如将4乘以2算成6。\\n   - 纠正：复习基本的乘法表，4 × 2 = 8。\\n3. **题目陷阱**：题目是否在问“腿”的其他含义，如家具的“腿”？\\n   - 纠正：根据上下文，这里明确指的是兔子的腿，没有其他隐含含义。\\n\\n### 验证其他动物\\n为了进一步验证我们的理解，可以看看其他动物的腿数：\\n- 猫：4条腿\\n- 狗：4条腿\\n- 鸡：2条腿\\n- 蜘蛛：8条腿（非昆虫，属于节肢动物）\\n  \\n这些例子表明，不同动物的腿数不同，但兔子确实属于四足动物。\\n\\n### 实际观察\\n如果有机会观察真实的兔子或查看兔子的图片、视频，可以直观地看到兔子确实有四条腿：\\n- 前腿：用于支撑和抓握\\n- 后腿：较为强壮，用于跳跃\\n\\n### 数学表达\\n用数学表达式来表示：\\n设：\\n- \\\\( n \\\\) = 兔子的数量 = 2\\n- \\\\( l \\\\) = 每只兔子的腿数 = 4\\n\\n则总腿数 \\\\( T \\\\)：\\n\\\\[ T = n \\\\times l = 2 \\\\times 4 = 8 \\\\]\\n\\n### 可能的变体问题\\n为了更深入地理解，可以思考类似的问题：\\n1. 如果有3只兔子，有多少条腿？\\n   - \\\\( 3 \\\\times 4 = 12 \\\\) 条腿\\n2. 如果有1只兔子和1只鸡，共有多少条腿？\\n   - 兔子：4条，鸡：2条，总共 \\\\( 4 + 2 = 6 \\\\) 条腿\\n\\n### 排除异常情况\\n有时候，动物可能会因为意外失去腿，但题目中没有提供这样的信息，因此我们假设所有兔子的腿都是完整的。\\n\\n### 文化或语言因素\\n在不同的语言或文化中，对“腿”的描述是否有不同？例如：\\n- 中文中“腿”明确指动物的下肢，没有歧义。\\n- 英语中“leg”同样明确。\\n\\n因此，没有语言上的混淆。\\n\\n### 结论\\n经过以上思考和验证，可以确定：\\n\\n**2只兔子共有8条腿。**', additional_kwargs={'refusal': None}, response_metadata={'token_usage': {'completion_tokens': 745, 'prompt_tokens': 11, 'total_tokens': 756, 'completion_tokens_details': None, 'prompt_tokens_details': {'audio_tokens': None, 'cached_tokens': 0}, 'prompt_cache_hit_tokens': 0, 'prompt_cache_miss_tokens': 11}, 'model_name': 'deepseek-chat', 'system_fingerprint': 'fp_8802369eaa_prod0425fp8', 'id': '5268caea-48dc-4ce7-bc98-d22dfb28c816', 'finish_reason': 'stop', 'logprobs': None}, id='run-6ae5f400-aab0-46df-a3e2-9edee080d129-0', usage_metadata={'input_tokens': 11, 'output_tokens': 745, 'total_tokens': 756, 'input_token_details': {'cache_read': 0}, 'output_token_details': {}})"
      ]
     },
     "execution_count": 15,
     "metadata": {},
     "output_type": "execute_result"
    }
   ],
   "source": [
    "from langchain_openai import ChatOpenAI\n",
    "API_KEY=\"sk-9846f14a2104490b960adbf5c5b3b32e\" #老师的Key\n",
    "BASE_URL = \"https://api.deepseek.com\"\n",
    "MODEL= \"deepseek-chat\"\n",
    "\n",
    "chat = ChatOpenAI(\n",
    "    model= MODEL,  # 默认的大模型为GPT-3.5-turbo，比较便宜\n",
    "    openai_api_base= BASE_URL,\n",
    "    openai_api_key= API_KEY,\n",
    "    temperature=0.3,\n",
    ")\n",
    "\n",
    "\n",
    "chat.invoke(\"请问2只兔子有多少条腿？\")"
   ]
  },
  {
   "cell_type": "code",
   "execution_count": 19,
   "id": "e66461d4",
   "metadata": {},
   "outputs": [],
   "source": [
    "from langchain.output_parsers import CommaSeparatedListOutputParser\n",
    "from langchain.prompts import PromptTemplate\n",
    "from langchain_openai import ChatOpenAI\n",
    "\n"
   ]
  },
  {
   "cell_type": "code",
   "execution_count": null,
   "id": "df331def-40ae-411a-8dad-760db3ba98e9",
   "metadata": {},
   "outputs": [],
   "source": [
    "output_parser = CommaSeparatedListOutputParser()"
   ]
  },
  {
   "cell_type": "code",
   "execution_count": 24,
   "id": "f95506fd",
   "metadata": {},
   "outputs": [
    {
     "data": {
      "text/plain": [
       "'Your response should be a list of comma separated values, eg: `foo, bar, baz` or `foo,bar,baz`'"
      ]
     },
     "execution_count": 24,
     "metadata": {},
     "output_type": "execute_result"
    }
   ],
   "source": [
    "# 方法一，调用CommaSeparatedListOutputParser \n",
    "\n",
    "format_instructions = output_parser.get_format_instructions()\n",
    "format_instructions\n"
   ]
  },
  {
   "cell_type": "code",
   "execution_count": 21,
   "id": "184c46e5-d0aa-43a7-8c71-29792d5d5178",
   "metadata": {},
   "outputs": [
    {
     "data": {
      "text/plain": [
       "'您的响应应该是csv格式的逗号分隔值的列表，例如：`内容1, 内容2, 内容3`'"
      ]
     },
     "execution_count": 21,
     "metadata": {},
     "output_type": "execute_result"
    }
   ],
   "source": [
    "#方法二，prompt中显式说明。\n",
    "format_instructions = \"您的响应应该是csv格式的逗号分隔值的列表，例如：`内容1, 内容2, 内容3`\"\n",
    "format_instructions"
   ]
  },
  {
   "cell_type": "code",
   "execution_count": 25,
   "id": "7d485a43-acd6-4926-9ef3-65943d8727c3",
   "metadata": {},
   "outputs": [
    {
     "data": {
      "text/plain": [
       "StringPromptValue(text='Your response should be a list of comma separated values, eg: `foo, bar, baz` or `foo,bar,baz`\\n请列出五个 冰淇淋口味.')"
      ]
     },
     "execution_count": 25,
     "metadata": {},
     "output_type": "execute_result"
    }
   ],
   "source": [
    "prompt = PromptTemplate(\n",
    "    template=\"{format_instructions}\\n请列出五个 {subject}.\",\n",
    "    input_variables=[\"subject\"],\n",
    "    partial_variables={\"format_instructions\": format_instructions},\n",
    ")\n",
    "prompt.invoke({\"subject\": \"冰淇淋口味\"})\n"
   ]
  },
  {
   "cell_type": "code",
   "execution_count": 26,
   "id": "252168a8",
   "metadata": {},
   "outputs": [
    {
     "data": {
      "text/plain": [
       "['香草', '巧克力', '草莓', '抹茶', '薄荷巧克力']"
      ]
     },
     "execution_count": 26,
     "metadata": {},
     "output_type": "execute_result"
    }
   ],
   "source": [
    "chain = prompt | chat | output_parser\n",
    "chain.invoke({\"subject\": \"冰淇淋口味\"})"
   ]
  },
  {
   "cell_type": "markdown",
   "id": "a3013e8a",
   "metadata": {},
   "source": [
    "## 日期时间解析器\n",
    "此 OutputParser 可用于将 LLM 输出解析为日期时间格式。"
   ]
  },
  {
   "cell_type": "code",
   "execution_count": null,
   "id": "17f9c6d9-a4f3-4d69-8f3e-4bbd1a5237b0",
   "metadata": {},
   "outputs": [],
   "source": [
    "from langchain.output_parsers import DatetimeOutputParser\n",
    "output_parser = DatetimeOutputParser()"
   ]
  },
  {
   "cell_type": "code",
   "execution_count": 35,
   "id": "b57ad65c",
   "metadata": {},
   "outputs": [
    {
     "data": {
      "text/plain": [
       "\"Write a datetime string that matches the following pattern: '%Y-%m-%dT%H:%M:%S.%fZ'.\\n\\nExamples: 1216-04-20T00:25:53.030121Z, 0694-04-24T20:00:14.989937Z, 2014-04-16T20:28:10.405899Z\\n\\nReturn ONLY this string, no other words!\""
      ]
     },
     "execution_count": 35,
     "metadata": {},
     "output_type": "execute_result"
    }
   ],
   "source": [
    "# 方法一：调用DatetimeOutputParser\n",
    "format_instructions=output_parser.get_format_instructions()\n",
    "format_instructions"
   ]
  },
  {
   "cell_type": "code",
   "execution_count": 41,
   "id": "5dc32f7d-bb3e-42ac-8982-ac44a310c457",
   "metadata": {},
   "outputs": [
    {
     "data": {
      "text/plain": [
       "'响应的格式用日期时间字符串:“%Y-%m-%dT%H:%M:%S.%fZ”。\\n\\n示例: 1898-05-31T06:59:40.248940Z, 1808-10-20T01:56:09.167633Z, 0226-10-17T06:18:24.192024Z\\n\\n仅返回此字符串，没有其他单词！'"
      ]
     },
     "execution_count": 41,
     "metadata": {},
     "output_type": "execute_result"
    }
   ],
   "source": [
    "#方法二，prompt中显式说明。\n",
    "format_instructions='''响应的格式用日期时间字符串:“%Y-%m-%dT%H:%M:%S.%fZ”。\n",
    "\n",
    "示例: 1898-05-31T06:59:40.248940Z, 1808-10-20T01:56:09.167633Z, 0226-10-17T06:18:24.192024Z\n",
    "\n",
    "仅返回此字符串，没有其他单词！'''\n",
    "format_instructions"
   ]
  },
  {
   "cell_type": "code",
   "execution_count": 42,
   "id": "2458304d",
   "metadata": {},
   "outputs": [],
   "source": [
    "prompt = PromptTemplate.from_template(\n",
    "    template,\n",
    "    partial_variables={\"format_instructions\":format_instructions },\n",
    ")\n",
    "\n",
    "chain = prompt | chat | output_parser"
   ]
  },
  {
   "cell_type": "code",
   "execution_count": 46,
   "id": "29b108bb",
   "metadata": {},
   "outputs": [
    {
     "name": "stdout",
     "output_type": "stream",
     "text": [
      "2008-10-31 14:10:00\n"
     ]
    }
   ],
   "source": [
    "output = chain.invoke({\"question\": \"比特币是什么时候创立的？\"})\n",
    "# output = chain.invoke({\"question\": \"Model Y 是什么时候正式上市的？\"})\n",
    "print(output)"
   ]
  },
  {
   "cell_type": "markdown",
   "id": "ffc246ac",
   "metadata": {},
   "source": [
    "## Enum parser 枚举解析器"
   ]
  },
  {
   "cell_type": "code",
   "execution_count": 47,
   "id": "9181c0ad",
   "metadata": {},
   "outputs": [],
   "source": [
    "from langchain.output_parsers.enum import EnumOutputParser"
   ]
  },
  {
   "cell_type": "code",
   "execution_count": 48,
   "id": "c76bd9a4",
   "metadata": {},
   "outputs": [],
   "source": [
    "from enum import Enum\n",
    "\n",
    "class Colors(Enum):\n",
    "    RED = \"红色\"\n",
    "    BROWN = \"棕色\"\n",
    "    BLACK = \"黑色\"\n",
    "    WHITE = \"白色\"\n",
    "    YELLOW = \"黄色\"\n",
    "    "
   ]
  },
  {
   "cell_type": "code",
   "execution_count": 49,
   "id": "6473a90e",
   "metadata": {},
   "outputs": [],
   "source": [
    "parser = EnumOutputParser(enum=Colors)"
   ]
  },
  {
   "cell_type": "code",
   "execution_count": 56,
   "id": "baa84294-827c-45ef-be57-adedfe50116f",
   "metadata": {},
   "outputs": [
    {
     "data": {
      "text/plain": [
       "'Select one of the following options: 红色, 棕色, 黑色, 白色, 黄色'"
      ]
     },
     "execution_count": 56,
     "metadata": {},
     "output_type": "execute_result"
    }
   ],
   "source": [
    "#方法一\n",
    "instructions=parser.get_format_instructions()\n",
    "instructions"
   ]
  },
  {
   "cell_type": "code",
   "execution_count": 60,
   "id": "1c4abcd0-927d-4132-a47b-45c56abfe37e",
   "metadata": {},
   "outputs": [
    {
     "data": {
      "text/plain": [
       "'响应的结果请选择以下选项之一：红色、棕色、黑色、白色、黄色。不要有其他的内容'"
      ]
     },
     "execution_count": 60,
     "metadata": {},
     "output_type": "execute_result"
    }
   ],
   "source": [
    "#方法二:显式定义\n",
    "instructions = \"响应的结果请选择以下选项之一：红色、棕色、黑色、白色、黄色。不要有其他的内容\"\n",
    "instructions"
   ]
  },
  {
   "cell_type": "code",
   "execution_count": 61,
   "id": "53c3a7f3",
   "metadata": {},
   "outputs": [],
   "source": [
    "from langchain_core.prompts import PromptTemplate\n",
    "from langchain_openai import ChatOpenAI\n",
    "\n",
    "promptTemplate = PromptTemplate.from_template(\n",
    "    \"\"\"{person}的皮肤主要是什么颜色？\n",
    "\n",
    "{instructions}\"\"\"\n",
    ")\n",
    "\n",
    "\n",
    "prompt = promptTemplate.partial(instructions=instructions)\n",
    "chain = prompt | chat | parser"
   ]
  },
  {
   "cell_type": "code",
   "execution_count": 63,
   "id": "f1405d42",
   "metadata": {},
   "outputs": [
    {
     "data": {
      "text/plain": [
       "<Colors.YELLOW: '黄色'>"
      ]
     },
     "execution_count": 63,
     "metadata": {},
     "output_type": "execute_result"
    }
   ],
   "source": [
    "chain.invoke({\"person\": \"亚洲人\"})"
   ]
  },
  {
   "cell_type": "code",
   "execution_count": 62,
   "id": "50ecbcc4-61ef-4096-905b-aa52c0c23c63",
   "metadata": {},
   "outputs": [
    {
     "data": {
      "text/plain": [
       "<Colors.BLACK: '黑色'>"
      ]
     },
     "execution_count": 62,
     "metadata": {},
     "output_type": "execute_result"
    }
   ],
   "source": [
    "chain.invoke({\"person\": \"非洲人\"})"
   ]
  },
  {
   "cell_type": "code",
   "execution_count": null,
   "id": "d89b4f08",
   "metadata": {},
   "outputs": [],
   "source": []
  }
 ],
 "metadata": {
  "kernelspec": {
   "display_name": "Python 3 (ipykernel)",
   "language": "python",
   "name": "python3"
  },
  "language_info": {
   "codemirror_mode": {
    "name": "ipython",
    "version": 3
   },
   "file_extension": ".py",
   "mimetype": "text/x-python",
   "name": "python",
   "nbconvert_exporter": "python",
   "pygments_lexer": "ipython3",
   "version": "3.12.2"
  }
 },
 "nbformat": 4,
 "nbformat_minor": 5
}
