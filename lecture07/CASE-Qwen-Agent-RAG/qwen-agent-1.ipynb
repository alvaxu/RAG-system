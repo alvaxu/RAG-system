{
 "cells": [
  {
   "cell_type": "code",
   "execution_count": null,
   "id": "9e982169-6dc3-4180-9503-8e5fb52d77c8",
   "metadata": {
    "tags": []
   },
   "outputs": [
    {
     "name": "stdin",
     "output_type": "stream",
     "text": [
      "用户请求:  客户经理被投诉了，投诉一次扣多少分?\n"
     ]
    },
    {
     "name": "stderr",
     "output_type": "stream",
     "text": [
      "2025-04-21 15:31:53,006 - memory.py - 113 - INFO - {\"keywords_zh\": [\"客户经理\", \"投诉\", \"扣分\"], \"keywords_en\": [\"account manager\", \"complaint\", \"deduct points\", \"penalty\"], \"text\": \"客户经理被投诉了，投诉一次扣多少分?\"}\n",
      "2025-04-21 15:31:54,115 - simple_doc_parser.py - 411 - INFO - Read parsed ./浦发上海浦东发展银行西安分行个金客户经理考核办法.pdf from cache.\n",
      "2025-04-21 15:31:54,120 - doc_parser.py - 108 - INFO - Start chunking ./浦发上海浦东发展银行西安分行个金客户经理考核办法.pdf (浦发上海浦东发展银行西安分行个金客户经理考核办法.pdf)...\n",
      "2025-04-21 15:31:54,120 - doc_parser.py - 126 - INFO - Finished chunking ./浦发上海浦东发展银行西安分行个金客户经理考核办法.pdf (浦发上海浦东发展银行西安分行个金客户经理考核办法.pdf). Time spent: 0.0 seconds.\n",
      "2025-04-21 15:31:54,124 - base_search.py - 56 - INFO - all tokens: 2914\n",
      "2025-04-21 15:31:54,125 - base_search.py - 59 - INFO - use full ref\n"
     ]
    },
    {
     "name": "stdout",
     "output_type": "stream",
     "text": [
      "根据文档中的信息，如果个金客户经理被客户投诉一次，将会扣2分。这是在工作质量考核标准中提到的服务质量考核部分。具体来说，在服务质量考核的第2点中有如下描述：“客户服务效率低，态度生硬或不及时为客户提供维护服务，有客户投诉的,每投诉一次扣 2 分”。"
     ]
    }
   ],
   "source": [
    "import pprint\n",
    "import urllib.parse\n",
    "import json5\n",
    "from qwen_agent.agents import Assistant\n",
    "from qwen_agent.tools.base import BaseTool, register_tool\n",
    "\n",
    "# 步骤 1（可选）：添加一个名为 `my_image_gen` 的自定义工具。\n",
    "@register_tool('my_image_gen')\n",
    "class MyImageGen(BaseTool):\n",
    "    # `description` 用于告诉智能体该工具的功能。\n",
    "    description = 'AI 绘画（图像生成）服务，输入文本描述，返回基于文本信息绘制的图像 URL。'\n",
    "    # `parameters` 告诉智能体该工具有哪些输入参数。\n",
    "    parameters = [{\n",
    "        'name': 'prompt',\n",
    "        'type': 'string',\n",
    "        'description': '期望的图像内容的详细描述',\n",
    "        'required': True\n",
    "    }]\n",
    "\n",
    "    def call(self, params: str, **kwargs) -> str:\n",
    "        # `params` 是由 LLM 智能体生成的参数。\n",
    "        prompt = json5.loads(params)['prompt']\n",
    "        prompt = urllib.parse.quote(prompt)\n",
    "        return json5.dumps(\n",
    "            {'image_url': f'https://image.pollinations.ai/prompt/{prompt}'},\n",
    "            ensure_ascii=False)\n",
    "\n",
    "\n",
    "# 步骤 2：配置您所使用的 LLM。\n",
    "llm_cfg = {\n",
    "    # 使用 DashScope 提供的模型服务：\n",
    "    'model': 'qwen-max',\n",
    "    'model_server': 'dashscope',\n",
    "    'api_key': 'sk-882e296067b744289acf27e6e20f3ec0',\n",
    "    # 如果这里没有设置 'api_key'，它将读取 `DASHSCOPE_API_KEY` 环境变量。\n",
    "\n",
    "    # 使用与 OpenAI API 兼容的模型服务，例如 vLLM 或 Ollama：\n",
    "    # 'model': 'Qwen2-7B-Chat',\n",
    "    # 'model_server': 'http://localhost:8000/v1',  # base_url，也称为 api_base\n",
    "    # 'api_key': 'EMPTY',\n",
    "    # （可选） LLM 的超参数：\n",
    "    'generate_cfg': {\n",
    "        'top_p': 0.8\n",
    "    }\n",
    "}\n",
    "\n",
    "# 步骤 3：创建一个智能体。这里我们以 `Assistant` 智能体为例，它能够使用工具并读取文件。\n",
    "system_instruction = '''你是一个乐于助人的AI助手。\n",
    "在收到用户的请求后，你应该：\n",
    "- 首先绘制一幅图像，得到图像的url，\n",
    "- 然后运行代码`request.get`以下载该图像的url，\n",
    "- 最后从给定的文档中选择一个图像操作进行图像处理。\n",
    "用 `plt.show()` 展示图像。\n",
    "你总是用中文回复用户。'''\n",
    "tools = ['my_image_gen', 'code_interpreter']  # `code_interpreter` 是框架自带的工具，用于执行代码。\n",
    "#files = ['./examples/resource/doc.pdf']  # 给智能体一个 PDF 文件阅读。\n",
    "files = ['./浦发上海浦东发展银行西安分行个金客户经理考核办法.pdf']  # 给智能体一个 PDF 文件阅读。\n",
    "bot = Assistant(llm=llm_cfg,\n",
    "                system_message=system_instruction,\n",
    "                function_list=tools,\n",
    "                files=files)\n",
    "\n",
    "# 步骤 4：作为聊天机器人运行智能体。\n",
    "messages = []  # 这里储存聊天历史。\n",
    "while True:\n",
    "    # 例如，输入请求 \"绘制一只狗并将其旋转 90 度\"。\n",
    "    query = input('用户请求: ')\n",
    "    if query == '-1':\n",
    "        break\n",
    "    # 将用户请求添加到聊天历史。\n",
    "    messages.append({'role': 'user', 'content': query})\n",
    "    response = []\n",
    "    current_index = 0\n",
    "    for response in bot.run(messages=messages):\n",
    "        current_response = response[0]['content'][current_index:]\n",
    "        current_index = len(response[0]['content'])\n",
    "        print(current_response, end='')\n",
    "    # 将机器人的回应添加到聊天历史。\n",
    "    messages.extend(response)"
   ]
  }
 ],
 "metadata": {
  "kernelspec": {
   "display_name": "Python 3 (ipykernel)",
   "language": "python",
   "name": "python3"
  },
  "language_info": {
   "codemirror_mode": {
    "name": "ipython",
    "version": 3
   },
   "file_extension": ".py",
   "mimetype": "text/x-python",
   "name": "python",
   "nbconvert_exporter": "python",
   "pygments_lexer": "ipython3",
   "version": "3.11.6"
  }
 },
 "nbformat": 4,
 "nbformat_minor": 5
}
