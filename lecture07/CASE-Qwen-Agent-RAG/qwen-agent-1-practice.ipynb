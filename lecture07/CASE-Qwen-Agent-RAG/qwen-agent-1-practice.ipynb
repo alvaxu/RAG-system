{
 "cells": [
  {
   "cell_type": "code",
   "execution_count": 1,
   "id": "9e982169-6dc3-4180-9503-8e5fb52d77c8",
   "metadata": {
    "tags": []
   },
   "outputs": [],
   "source": [
    "# 参考 https://github.com/QwenLM/Qwen-Agent\n",
    "\n",
    "import pprint\n",
    "import urllib.parse\n",
    "import json5\n",
    "from qwen_agent.agents import Assistant\n",
    "from qwen_agent.tools.base import BaseTool, register_tool\n",
    "import os\n",
    "\n",
    "# 步骤 1（可选）：添加一个名为 `my_image_gen` 的自定义工具。\n",
    "@register_tool('my_image_gen')\n",
    "class MyImageGen(BaseTool):\n",
    "    # `description` 用于告诉智能体该工具的功能。\n",
    "    description = 'AI 绘画（图像生成）服务，输入文本描述，返回基于文本信息绘制的图像 URL。'\n",
    "    # `parameters` 告诉智能体该工具有哪些输入参数。\n",
    "    parameters = [{\n",
    "        'name': 'prompt',\n",
    "        'type': 'string',\n",
    "        'description': '期望的图像内容的详细描述',\n",
    "        'required': True\n",
    "    }]\n",
    "\n",
    "    def call(self, params: str, **kwargs) -> str:\n",
    "        # `params` 是由 LLM 智能体生成的参数。\n",
    "        prompt = json5.loads(params)['prompt']\n",
    "        prompt = urllib.parse.quote(prompt)\n",
    "        return json5.dumps(\n",
    "            {'image_url': f'https://image.pollinations.ai/prompt/{prompt}'},\n",
    "            ensure_ascii=False)\n",
    "\n",
    "\n",
    "\n"
   ]
  },
  {
   "cell_type": "code",
   "execution_count": 2,
   "id": "45746588-224b-4e12-b638-ef8d98b655ec",
   "metadata": {},
   "outputs": [],
   "source": [
    "# 步骤 2：配置您所使用的 LLM。\n",
    "llm_cfg = {\n",
    "    # 使用 DashScope 提供的模型服务：\n",
    "    'model': 'qwen-max',\n",
    "    'model_server': 'dashscope',\n",
    "    # 'api_key': 'sk-882e296067b744289acf27e6e20f3ec0',\n",
    "    'api_key': os.getenv('DASHSCOPE_API_KEY'),\n",
    "    # 如果这里没有设置 'api_key'，它将读取 `DASHSCOPE_API_KEY` 环境变量。\n",
    "\n",
    "    # 使用与 OpenAI API 兼容的模型服务，例如 vLLM 或 Ollama：\n",
    "    # 'model': 'Qwen2-7B-Chat',\n",
    "    # 'model_server': 'http://localhost:8000/v1',  # base_url，也称为 api_base\n",
    "    # 'api_key': 'EMPTY',\n",
    "    # （可选） LLM 的超参数：\n",
    "    'generate_cfg': {\n",
    "        'top_p': 0.8\n",
    "    }\n",
    "}\n"
   ]
  },
  {
   "cell_type": "code",
   "execution_count": 30,
   "id": "236d6c30-3ff1-4e94-bc51-1dae16562bbf",
   "metadata": {},
   "outputs": [],
   "source": [
    "# 步骤 3：创建一个智能体。这里我们以 `Assistant` 智能体为例，它能够使用工具并读取文件。\n",
    "# system_instruction = '''你是一个乐于助人的AI助手。\n",
    "# 在收到用户的请求后，你应该：\n",
    "# - 首先绘制一幅图像，得到图像的url，\n",
    "# - 然后运行代码`request.get`以下载该图像的url，\n",
    "# - 最后从给定的文档中选择一个图像操作进行图像处理。\n",
    "# 用 `plt.show()` 展示图像。\n",
    "# 你总是用中文回复用户。'''\n",
    "\n",
    "system_instruction = '''你是一个乐于助人的AI助手。\n",
    "在收到用户的请求后，你应该：\n",
    "- 首先判断用户是要你做什么\n",
    "- 如果要你绘制一幅图像，那么你先要调用AI绘图工具进行画图，接着将图像的url地址告诉用户，以便点击查看。然后执行代码`request.get`以下载该图像到本地并打开,并告诉用户下载地址，\n",
    "- 如果是其他问题，则需要对文件进行分析再做回答\n",
    "\n",
    "你总是用中文回复用户。'''\n",
    "tools = ['my_image_gen', 'code_interpreter']  # `code_interpreter` 是框架自带的工具，用于执行代码。\n",
    "#files = ['./examples/resource/doc.pdf']  # 给智能体一个 PDF 文件阅读。\n",
    "files = ['./浦发上海浦东发展银行西安分行个金客户经理考核办法.pdf']  # 给智能体一个 PDF 文件阅读。\n",
    "bot = Assistant(llm=llm_cfg,\n",
    "                system_message=system_instruction,\n",
    "                function_list=tools,\n",
    "                files=files)"
   ]
  },
  {
   "cell_type": "code",
   "execution_count": 33,
   "id": "8a162cb2-183d-4161-af9f-10fc81271066",
   "metadata": {},
   "outputs": [
    {
     "name": "stdin",
     "output_type": "stream",
     "text": [
      "用户请求:  请画一幅母子平安图\n"
     ]
    },
    {
     "name": "stderr",
     "output_type": "stream",
     "text": [
      "2025-04-26 16:38:37,675 - memory.py - 116 - INFO - {\"keywords_zh\": [\"母子平安图\", \"画\"], \"keywords_en\": [\"safe mother and child picture\", \"draw\"], \"text\": \"请画一幅母子平安图\"}\n",
      "2025-04-26 16:38:37,676 - simple_doc_parser.py - 411 - INFO - Read parsed ./浦发上海浦东发展银行西安分行个金客户经理考核办法.pdf from cache.\n",
      "2025-04-26 16:38:37,677 - doc_parser.py - 108 - INFO - Start chunking ./浦发上海浦东发展银行西安分行个金客户经理考核办法.pdf (浦发上海浦东发展银行西安分行个金客户经理考核办法.pdf)...\n",
      "2025-04-26 16:38:37,678 - doc_parser.py - 126 - INFO - Finished chunking ./浦发上海浦东发展银行西安分行个金客户经理考核办法.pdf (浦发上海浦东发展银行西安分行个金客户经理考核办法.pdf). Time spent: 0.0010046958923339844 seconds.\n",
      "2025-04-26 16:38:37,679 - base_search.py - 56 - INFO - all tokens: 2937\n",
      "2025-04-26 16:38:37,679 - base_search.py - 59 - INFO - use full ref\n",
      "2025-04-26 16:38:46,905 - utils.py - 174 - INFO - Downloading ./浦发上海浦东发展银行西安分行个金客户经理考核办法.pdf to workspace\\tools\\code_interpreter\\浦发上海浦东发展银行西安分行个金客户经理考核办法.pdf...\n",
      "2025-04-26 16:38:46,908 - utils.py - 191 - INFO - Finished downloading ./浦发上海浦东发展银行西安分行个金客户经理考核办法.pdf to workspace\\tools\\code_interpreter\\浦发上海浦东发展银行西安分行个金客户经理考核办法.pdf. Time spent: 0.002003192901611328 seconds.\n",
      "2025-04-26 16:38:46,928 - code_interpreter.py - 173 - INFO - INFO: kernel process's PID = 10748\n",
      "2025-04-26 16:38:49,817 - code_interpreter.py - 105 - INFO - stdout:\n",
      "\n",
      "```\n",
      "Exception reporting mode: Minimal\n",
      "\n",
      "```\n",
      "2025-04-26 16:39:02,356 - utils.py - 174 - INFO - Downloading ./浦发上海浦东发展银行西安分行个金客户经理考核办法.pdf to workspace\\tools\\code_interpreter\\浦发上海浦东发展银行西安分行个金客户经理考核办法.pdf...\n",
      "2025-04-26 16:39:02,360 - utils.py - 191 - INFO - Finished downloading ./浦发上海浦东发展银行西安分行个金客户经理考核办法.pdf to workspace\\tools\\code_interpreter\\浦发上海浦东发展银行西安分行个金客户经理考核办法.pdf. Time spent: 0.0028944015502929688 seconds.\n"
     ]
    },
    {
     "name": "stdout",
     "output_type": "stream",
     "text": [
      "{image_url: \"https://image.pollinations.ai/prompt/%E6%AF%8D%E5%AD%90%E5%B9%B3%E5%AE%89%E5%9B%BE\"}这是您请求的母子平安图，您可以点击链接查看: ![母子平安图](https://image.pollinations.ai/prompt/%E6%AF%8D%E5%AD%90%E5%B9%B3%E5%AE%89%E5%9B%BE)\n",
      "\n",
      "现在我将该图片下载到本地。\n",
      "error:\n",
      "\n",
      "```\n",
      "NameError: name 'shutil' is not defined\n",
      "\n",
      "```看起来在下载图片时遇到了一个小问题，因为我忘记导入`shutil`库。让我立即修正这个问题并重新尝试下载。\n",
      "execute_result:\n",
      "\n",
      "```\n",
      "'D:\\\\cursorprj\\\\lecture07\\\\CASE-Qwen-Agent-RAG\\\\workspace\\\\tools\\\\code_interpreter\\\\mother_and_child_safety.jpg'\n",
      "```母子平安图已经成功下载到本地，您可以点击以下路径查看图片: \n",
      "\n",
      "`D:\\cursorprj\\lecture07\\CASE-Qwen-Agent-RAG\\workspace\\tools\\code_interpreter\\mother_and_child_safety.jpg` \n",
      "\n",
      "如果您在访问该路径时遇到任何问题，请告诉我。\n"
     ]
    },
    {
     "name": "stdin",
     "output_type": "stream",
     "text": [
      "用户请求:  -1\n"
     ]
    }
   ],
   "source": [
    "\n",
    "\n",
    "\n",
    "# 步骤 4：作为聊天机器人运行智能体。\n",
    "messages = []  # 这里储存聊天历史。\n",
    "while True:\n",
    "    # 例如，输入请求 \"绘制一只狗并将其旋转 90 度\"。\n",
    "    query = input('用户请求: ')\n",
    "    if query == '-1':\n",
    "        break\n",
    "    # 将用户请求添加到聊天历史。\n",
    "    messages.append({'role': 'user', 'content': query})\n",
    "    # response = []\n",
    "#     # current_index = 0\n",
    "# #   print(f'messages={messages}\\n')\n",
    "# #    for response in bot.run(messages=messages):  #会返回多次，每次循环，content都在增加内容。\n",
    "# #        print(f'\\n my response is :{response}\\n')\n",
    "#         current_response = response[0]['content'][current_index:]\n",
    "#         current_index = len(response[0]['content']) # 每次循环，content都在增加字符，将response[0]['content']的输出移到新的位置开始。\n",
    "# #        print(current_response, end='') # 打印当前的字符，拼接起来。   \n",
    "#     # print(f'\\n my latest response is :{response[0]['content']}\\n')\n",
    "# #    print(f'\\n my response is :{response}\\n')\n",
    "    response= list(bot.run(messages=messages)) #将生成器转换为列表\n",
    "    last_response= response[-1]  #取出最后生成的完整的response\n",
    "    contents = [str(item['content']) for item in last_response if item.get('content')]#取出response的各个字典元素中所有content的值\n",
    "    combined_content = ''.join(contents) #将这些值拼成完整的回答。\n",
    "    print(combined_content)\n",
    "     # 将机器人的回应添加到聊天历史。\n",
    "    messages.extend(last_response)\n",
    "\n",
    "  \n",
    "    "
   ]
  }
 ],
 "metadata": {
  "kernelspec": {
   "display_name": "Python 3 (ipykernel)",
   "language": "python",
   "name": "python3"
  },
  "language_info": {
   "codemirror_mode": {
    "name": "ipython",
    "version": 3
   },
   "file_extension": ".py",
   "mimetype": "text/x-python",
   "name": "python",
   "nbconvert_exporter": "python",
   "pygments_lexer": "ipython3",
   "version": "3.12.2"
  }
 },
 "nbformat": 4,
 "nbformat_minor": 5
}
