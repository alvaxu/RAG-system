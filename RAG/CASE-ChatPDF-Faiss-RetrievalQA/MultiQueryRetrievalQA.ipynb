{
 "cells": [
  {
   "cell_type": "code",
   "execution_count": 7,
   "id": "c97251d1-ea7a-410a-b101-233a451e905b",
   "metadata": {},
   "outputs": [],
   "source": [
    "\"\"\"\n",
    "ChatPDF 简化版本\n",
    "使用 LangChain 标准组件实现 PDF 文档问答系统\n",
    "\"\"\"\n",
    "import os\n",
    "from langchain.retrievers import MultiQueryRetriever\n",
    "from langchain_community.vectorstores import FAISS\n",
    "from langchain_community.embeddings import DashScopeEmbeddings\n",
    "from langchain_community.llms import Tongyi\n",
    "\n",
    "# 配置参数\n",
    "EMBEDDING_MODEL = \"text-embedding-v1\"\n",
    "LLM_MODEL = \"qwen-turbo\"\n",
    "DASHSCOPE_API_KEY = os.getenv('DASHSCOPE_API_KEY')\n",
    "\n",
    "if not DASHSCOPE_API_KEY:\n",
    "    raise ValueError(\"请设置 DASHSCOPE_API_KEY 环境变量\")\n",
    "\n",
    "# 创建LLM\n",
    "llm = Tongyi(\n",
    "    model_name=LLM_MODEL,\n",
    "    temperature=0.7,\n",
    "    dashscope_api_key=DASHSCOPE_API_KEY\n",
    ")\n",
    "embeddings = DashScopeEmbeddings(\n",
    "    model=EMBEDDING_MODEL,\n",
    "    dashscope_api_key=DASHSCOPE_API_KEY\n",
    ")\n",
    "\n",
    " "
   ]
  },
  {
   "cell_type": "code",
   "execution_count": 25,
   "id": "1b851907-c236-4605-bcac-6a14b06676bc",
   "metadata": {},
   "outputs": [],
   "source": [
    "# 加载向量数据库，添加allow_dangerous_deserialization=True参数以允许反序列化\n",
    "vectorstore = FAISS.load_local(\"./faiss-1\", embeddings, allow_dangerous_deserialization=True)\n",
    "# 创建MultiQueryRetriever\n",
    "#当使用 MultiQueryRetriever 时，即使设置了 search_kwargs={\"k\": 3}，最终返回的文档数量仍可能超过 3 个，\n",
    "# 用大模型（LLM）将原始查询 扩展成多个相似问题（默认生成 3-5 个变体问题）\n",
    "# 对每个变体问题 独立执行检索，每个都返回 k 个文档）\n",
    "# 合并所有结果后去重\n",
    "retriever = MultiQueryRetriever.from_llm(\n",
    "    retriever=vectorstore.as_retriever( search_kwargs={\"k\": 2}),\n",
    "    llm=llm\n",
    ")\n",
    "\n"
   ]
  },
  {
   "cell_type": "code",
   "execution_count": 14,
   "id": "805adf2b-2a38-4093-8327-76e9bd6f775a",
   "metadata": {},
   "outputs": [
    {
     "data": {
      "text/plain": [
       "<langchain_community.vectorstores.faiss.FAISS at 0x237d989fd40>"
      ]
     },
     "execution_count": 14,
     "metadata": {},
     "output_type": "execute_result"
    }
   ],
   "source": [
    "vectorstore"
   ]
  },
  {
   "cell_type": "code",
   "execution_count": 15,
   "id": "d4ce8fc4-49ec-47dd-8619-0f2108753296",
   "metadata": {},
   "outputs": [
    {
     "data": {
      "text/plain": [
       "MultiQueryRetriever(retriever=VectorStoreRetriever(tags=['FAISS', 'DashScopeEmbeddings'], vectorstore=<langchain_community.vectorstores.faiss.FAISS object at 0x00000237D989FD40>, search_kwargs={'k': 5, 'score_threshold': 0.65}), llm_chain=PromptTemplate(input_variables=['question'], input_types={}, partial_variables={}, template='You are an AI language model assistant. Your task is \\n    to generate 3 different versions of the given user \\n    question to retrieve relevant documents from a vector  database. \\n    By generating multiple perspectives on the user question, \\n    your goal is to help the user overcome some of the limitations \\n    of distance-based similarity search. Provide these alternative \\n    questions separated by newlines. Original question: {question}')\n",
       "| Tongyi(client=<class 'dashscope.aigc.generation.Generation'>, model_kwargs={})\n",
       "| LineListOutputParser())"
      ]
     },
     "execution_count": 15,
     "metadata": {},
     "output_type": "execute_result"
    }
   ],
   "source": [
    "retriever"
   ]
  },
  {
   "cell_type": "code",
   "execution_count": 26,
   "id": "4a3d6e0b-8340-4312-acc7-bb8ff1cbf7ec",
   "metadata": {},
   "outputs": [
    {
     "name": "stdout",
     "output_type": "stream",
     "text": [
      "查询: 客户经理的考核标准是什么？\n",
      "找到 2 个相关文档:\n",
      "\n",
      "文档 1:\n",
      "-5 第五章  工作质量考核标准  \n",
      "第九条   工作质量考核实行扣分制。工作质量指个金客户经理在\n",
      "从事所有个人业务时出现投诉、差错及风险。该项考核最多扣 50分，\n",
      "如发生重大差错事故，按分行有关制度处理。  \n",
      "（一）服务质量考核：   \n",
      "1、工作责任心不强，缺乏配合协作精神；扣 5分 \n",
      "2、客户服务效率低，态度生硬或不及时为客户提供维护服务，\n",
      "有客户投诉的 ,每投诉一次扣 2分 \n",
      "3、不服从支行...\n",
      "\n",
      "文档 2:\n",
      "调整浮动。   \n",
      "第十三条   特别聘任：  \n",
      "（一）经分行同意录用从其他单位调入的个金客户经理，由用人\n",
      "单位按 D类人员进行考核， 薪资待遇按其业绩享受行内正式行员工同\n",
      "等待遇。待正式转正后按第十一条规定申报技术职务。  \n",
      "（二）对为我行业务创新、工作业绩等方面做出重大贡献的市场\n",
      "人员经支行推荐、分行行长 批准可越级聘任。  \n",
      "第十四条   对于创利业绩较高，而暂未入围技术职务系列，或所\n",
      "评聘技...\n"
     ]
    }
   ],
   "source": [
    "# 示例查询\n",
    "query = \"客户经理的考核标准是什么？\"\n",
    "# 执行查询\n",
    "#results = retriever.get_relevant_documents(query) #  The method `BaseRetriever.get_relevant_documents` was deprecated in langchain-core 0.1.46\n",
    "results = retriever.invoke(query)\n",
    "# 打印结果\n",
    "print(f\"查询: {query}\")\n",
    "print(f\"找到 {len(results)} 个相关文档:\")\n",
    "for i, doc in enumerate(results):\n",
    "    print(f\"\\n文档 {i+1}:\")\n",
    "    print(doc.page_content[:200] + \"...\" if len(doc.page_content) > 200 else doc.page_content)"
   ]
  }
 ],
 "metadata": {
  "kernelspec": {
   "display_name": "Python 3 (ipykernel)",
   "language": "python",
   "name": "python3"
  },
  "language_info": {
   "codemirror_mode": {
    "name": "ipython",
    "version": 3
   },
   "file_extension": ".py",
   "mimetype": "text/x-python",
   "name": "python",
   "nbconvert_exporter": "python",
   "pygments_lexer": "ipython3",
   "version": "3.12.2"
  }
 },
 "nbformat": 4,
 "nbformat_minor": 5
}
