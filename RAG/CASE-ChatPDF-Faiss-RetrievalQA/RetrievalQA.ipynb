{
 "cells": [
  {
   "cell_type": "code",
   "execution_count": 3,
   "id": "c97251d1-ea7a-410a-b101-233a451e905b",
   "metadata": {},
   "outputs": [],
   "source": [
    "\"\"\"\n",
    "ChatPDF 简化版本\n",
    "使用 LangChain 标准组件实现 PDF 文档问答系统\n",
    "\"\"\"\n",
    "import os\n",
    "from PyPDF2 import PdfReader\n",
    "from langchain.text_splitter import RecursiveCharacterTextSplitter\n",
    "from langchain_community.embeddings import DashScopeEmbeddings\n",
    "from langchain_community.vectorstores import FAISS\n",
    "from langchain.chains import RetrievalQA\n",
    "from langchain.chains.combine_documents import create_stuff_documents_chain\n",
    "from langchain.prompts import PromptTemplate\n",
    "from langchain_community.llms import Tongyi\n",
    "from typing import List, Dict, Tuple\n",
    "\n",
    "# 配置参数\n",
    "CHUNK_SIZE = 1000  # 分块大小\n",
    "CHUNK_OVERLAP = 200  # 重叠\n",
    "EMBEDDING_MODEL = \"text-embedding-v1\"\n",
    "LLM_MODEL = \"qwen-turbo\"\n",
    "DASHSCOPE_API_KEY = os.getenv('DASHSCOPE_API_KEY')\n",
    "\n",
    "if not DASHSCOPE_API_KEY:\n",
    "    raise ValueError(\"请设置 DASHSCOPE_API_KEY 环境变量\")\n",
    "\n",
    "def process_pdf(pdf_path: str) -> Tuple[List[str], List[Dict]]:\n",
    "    \"\"\"\n",
    "    处理PDF文件，返回文本块和元数据\n",
    "    \"\"\"\n",
    "    # 读取PDF\n",
    "    reader = PdfReader(pdf_path)\n",
    "    \n",
    "    # 收集所有页面的文本和位置信息\n",
    "    all_text = []\n",
    "    page_positions = []  # 记录每个字符属于哪一页\n",
    "    \n",
    "    for page_num, page in enumerate(reader.pages, 1):\n",
    "        page_text = page.extract_text()\n",
    "        if not page_text:\n",
    "            continue\n",
    "            \n",
    "        # 清理文本\n",
    "        page_text = page_text.replace(\"百度文库\", \"\").replace(\"好好学习，天天向上\", \"\").strip()\n",
    "        \n",
    "        # 记录当前页面的所有字符位置\n",
    "        for _ in range(len(page_text)):\n",
    "            page_positions.append(page_num)\n",
    "            \n",
    "        all_text.append(page_text)\n",
    "    \n",
    "    # 合并所有文本\n",
    "    full_text = \"\".join(all_text)\n",
    "    \n",
    "    # 使用LangChain的文本分割器\n",
    "    text_splitter = RecursiveCharacterTextSplitter(\n",
    "        separators=[\"\\n\\n\", \"\\n\", \"。\", \"！\", \"？\", \".\", \"!\", \"?\", \" \", \"\"],  # 添加中文标点\n",
    "        chunk_size=CHUNK_SIZE,\n",
    "        chunk_overlap=CHUNK_OVERLAP,\n",
    "        length_function=len,\n",
    "        is_separator_regex=False\n",
    "    )\n",
    "    \n",
    "    # 分割文本\n",
    "    chunks = text_splitter.split_text(full_text)\n",
    "    \n",
    "    # 为每个文本块创建元数据\n",
    "    chunk_metadata = []\n",
    "    for chunk in chunks:\n",
    "        # 找到这个chunk在原始文本中的位置\n",
    "        start_pos = full_text.find(chunk)\n",
    "        if start_pos == -1:\n",
    "            # 如果找不到精确匹配，使用第一个字符的位置\n",
    "            start_pos = 0\n",
    "            \n",
    "        # 获取这个chunk的起始页码\n",
    "        start_page = page_positions[start_pos] if start_pos < len(page_positions) else 1\n",
    "        \n",
    "        # 获取这个chunk的结束页码\n",
    "        end_pos = start_pos + len(chunk)\n",
    "        end_page = page_positions[min(end_pos, len(page_positions)-1)] if end_pos < len(page_positions) else start_page\n",
    "        \n",
    "        # 如果chunk跨越了多页，使用起始页码\n",
    "        chunk_metadata.append({\n",
    "            \"page\": start_page,\n",
    "            \"source\": pdf_path\n",
    "        })\n",
    "    \n",
    "    return chunks, chunk_metadata\n",
    "\n",
    "def create_vector_store(texts: List[str], metadata: List[Dict]):\n",
    "    \"\"\"\n",
    "    创建向量存储\n",
    "    \"\"\"\n",
    "    # 创建embeddings\n",
    "    embeddings = DashScopeEmbeddings(\n",
    "        model=EMBEDDING_MODEL,\n",
    "        dashscope_api_key=DASHSCOPE_API_KEY\n",
    "    )\n",
    "    \n",
    "    # 创建向量存储\n",
    "    vector_store = FAISS.from_texts(\n",
    "        texts=texts,\n",
    "        embedding=embeddings,\n",
    "        metadatas=metadata\n",
    "    )\n",
    "    # print(vector_store)\n",
    "    return vector_store\n",
    "\n",
    "def create_qa_chain(vector_store):\n",
    "    \"\"\"\n",
    "    创建问答链\n",
    "    \"\"\"\n",
    "    # 创建LLM\n",
    "    llm = Tongyi(\n",
    "        model_name=LLM_MODEL,\n",
    "        temperature=0.7,\n",
    "        dashscope_api_key=DASHSCOPE_API_KEY\n",
    "    )\n",
    "    \n",
    "    # 创建提示模板\n",
    "    template = (\n",
    "        \"\"\"你是一个专业的文档问答助手。请根据提供的上下文来回答问题。\n",
    "如果上下文中包含问题的答案，请直接回答。\n",
    "如果上下文中没有相关信息，请明确回答\"不知道\"。\n",
    "\n",
    "上下文：\n",
    "{context}\n",
    "\n",
    "问题：{question}\n",
    "\n",
    "请仔细分析上下文，确保答案准确。回答：\"\"\"\n",
    "    )\n",
    "\n",
    "    QA_PROMPT = PromptTemplate(\n",
    "        input_variables=[\"context\",\"question\"],  # 必须包含这两个变量\n",
    "        template=template\n",
    "    )\n",
    "\n",
    "    # 构建问答链\n",
    "    qa_chain = RetrievalQA.from_chain_type(\n",
    "       llm=llm,  # 控制生成稳定性\n",
    "       chain_type=\"stuff\",\n",
    "       chain_type_kwargs={\n",
    "       \"prompt\": QA_PROMPT,\n",
    "#       \"document_variable_name\": \"context\"  # 必须与模板变量名一致，context 的值是自动从检索器（retriever）获取并注入到 prompt \n",
    "        },\n",
    "       retriever=vector_store.as_retriever(\n",
    "#            search_kwargs={\"k\": 5, \"score_threshold\": 0.65}  # 如果设了score_threshold，就会出现docs返回空值\n",
    "           search_kwargs={\"k\": 5}  # 控制检索质量\n",
    "        ),\n",
    "       # input_key=\"query\",  # 显式声明输入键名\n",
    "       # document_variable_name=\"context\",  # 明确指定文档变量名\n",
    "       return_source_documents=True\n",
    "    )\n",
    "    \n",
    "    return qa_chain, vector_store"
   ]
  },
  {
   "cell_type": "code",
   "execution_count": 4,
   "id": "a70335e9-f6a9-4b4a-9cb7-914750988c38",
   "metadata": {},
   "outputs": [
    {
     "name": "stdout",
     "output_type": "stream",
     "text": [
      "\n",
      "处理完成，共生成 5 个文本块\n"
     ]
    }
   ],
   "source": [
    "# 处理PDF\n",
    "# pdf_path = input(\"请输入PDF文件路径：\")\n",
    "# pdf_path = './上海市数字经济发展.pdf'\n",
    "pdf_path = './浦发上海浦东发展银行西安分行个金客户经理考核办法.pdf'\n",
    "texts, metadata = process_pdf(pdf_path)\n",
    "\n",
    "print(f\"\\n处理完成，共生成 {len(texts)} 个文本块\")\n",
    "\n",
    "texts, metadata = process_pdf(pdf_path)\n",
    "# for i in range(len(texts)) :\n",
    "#     print(f\"texts[{i}]\\n{texts[i]},\\n metadata={metadata[i]}\")\n"
   ]
  },
  {
   "cell_type": "code",
   "execution_count": 5,
   "id": "a064efcf-d81d-4226-9d6a-46f16b4eae39",
   "metadata": {},
   "outputs": [
    {
     "data": {
      "text/plain": [
       "RetrievalQA(verbose=False, combine_documents_chain=StuffDocumentsChain(verbose=False, llm_chain=LLMChain(verbose=False, prompt=PromptTemplate(input_variables=['context', 'question'], input_types={}, partial_variables={}, template='你是一个专业的文档问答助手。请根据提供的上下文来回答问题。\\n如果上下文中包含问题的答案，请直接回答。\\n如果上下文中没有相关信息，请明确回答\"不知道\"。\\n\\n上下文：\\n{context}\\n\\n问题：{question}\\n\\n请仔细分析上下文，确保答案准确。回答：'), llm=Tongyi(client=<class 'dashscope.aigc.generation.Generation'>, model_kwargs={}), output_parser=StrOutputParser(), llm_kwargs={}), document_prompt=PromptTemplate(input_variables=['page_content'], input_types={}, partial_variables={}, template='{page_content}'), document_variable_name='context'), return_source_documents=True, retriever=VectorStoreRetriever(tags=['FAISS', 'DashScopeEmbeddings'], vectorstore=<langchain_community.vectorstores.faiss.FAISS object at 0x000002B22CF7AB40>, search_kwargs={'k': 5}))"
      ]
     },
     "execution_count": 5,
     "metadata": {},
     "output_type": "execute_result"
    }
   ],
   "source": [
    "# 创建向量存储\n",
    "vector_store = create_vector_store(texts, metadata)\n",
    "\n",
    "# 创建问答链\n",
    "qa_chain, vector_store = create_qa_chain(vector_store)\n",
    "\n",
    "qa_chain"
   ]
  },
  {
   "cell_type": "code",
   "execution_count": 6,
   "id": "72d53bfa-2f94-4dc7-a0a5-d1d7ef13d3d7",
   "metadata": {},
   "outputs": [
    {
     "data": {
      "text/plain": [
       "[]"
      ]
     },
     "execution_count": 6,
     "metadata": {},
     "output_type": "execute_result"
    }
   ],
   "source": [
    "#测试score_threshold参数的作用\n",
    "retriever = vector_store.as_retriever(search_kwargs={'k': 5,'score_threshold': 0.65})  # 如果设了score_threshold，就会出现docs返回空值\n",
    "docs = retriever.invoke(\"客户经理被投诉了，投诉一次扣多少分\")  # 或 get_relevant_documents()\n",
    "docs"
   ]
  },
  {
   "cell_type": "code",
   "execution_count": 11,
   "id": "a65b0a37-23bf-4102-ba3e-ae29f2a3e0ee",
   "metadata": {},
   "outputs": [
    {
     "data": {
      "text/plain": [
       "[Document(id='b679d619-8385-49c9-8006-5c8c52b570bc', metadata={'page': 5, 'source': './浦发上海浦东发展银行西安分行个金客户经理考核办法.pdf'}, page_content='-5 第五章  工作质量考核标准  \\n第九条   工作质量考核实行扣分制。工作质量指个金客户经理在\\n从事所有个人业务时出现投诉、差错及风险。该项考核最多扣 50分，\\n如发生重大差错事故，按分行有关制度处理。  \\n（一）服务质量考核：   \\n1、工作责任心不强，缺乏配合协作精神；扣 5分 \\n2、客户服务效率低，态度生硬或不及时为客户提供维护服务，\\n有客户投诉的 ,每投诉一次扣 2分 \\n3、不服从支行工作安排，不认真参加分（支）行宣传活动的，\\n每次扣 2分； \\n4、未能及时参加分行（支行）组织的各种业务培训、考试和专\\n题活动的每次扣 2分； \\n5、未按规定要求进行贷前调查、贷后检查工作的，每笔扣 5分； \\n6、未建立信贷台帐资料及档案的每笔扣 5分； \\n7、在工作中有不廉洁自律情况的每发现一次扣 50分。 \\n（二）个人资产质量考核：  \\n当季考核收息率 97%以上为合格，每降 1个百分点扣 2分；不\\n良资产零为合格，每超一个个百分点扣 1分。 \\nA.发生跨月逾期，单笔不超过 10万元，当季收回者，扣 1分。 \\nB.发生跨月逾期， 2笔以上累计金额不超过 20万元，当季收回\\n者，扣 2分；累计超过 20万元以上的，扣 4分。-   \\n-6 C.发生逾期超过 3个月，无论金额大小和笔数，扣 10分。 \\n \\n第六章  聘任考核程序  \\n第十条   凡达到本办法第三章规定的该技术职务所要求的行内职\\n工，都可向分行人力资源部申报个金客户经理评聘。  \\n第十一条   每年一月份为客户经理评聘的申报时间，由分行人力\\n资源部、个人业务部每年二月份组织统一的资格考试。考试合格者由\\n分行颁发个金客户经理资格证书，其有效期为一年。  \\n第十二条   客户经理聘任实行开放式、浮动制，即：本人申报  —\\n— 所在部门推荐  —— 分行考核  —— 行长聘任  —— 每年考评\\n调整浮动。   \\n第十三条   特别聘任：  \\n（一）经分行同意录用从其他单位调入的个金客户经理，由用人\\n单位按 D类人员进行考核， 薪资待遇按其业绩享受行内正式行员工同\\n等待遇。待正式转正后按第十一条规定申报技术职务。  \\n（二）对为我行业务创新、工作业绩等方面做出重大贡献的市场\\n人员经支行推荐、分行行长 批准可越级聘任。  \\n第十四条   对于创利业绩较高，而暂未入围技术职务系列，或所'),\n",
       " Document(id='d7c7109a-44f7-4cb7-a989-c041a0528e4b', metadata={'page': 8, 'source': './浦发上海浦东发展银行西安分行个金客户经理考核办法.pdf'}, page_content='准，个金客户经理即可在下一季度享受该级行员的薪资标准。下一季\\n度考核时，按照已享受行员级别考核折算比值进行考核，以次类推。  \\n第十六条   对已聘为各级客户经理的人员，当工作业绩考核达不\\n到相应技术职务要求下限时，下一年技术职务相应下调 。 \\n第十七条   为保护个人业务客户经理创业的积极性，暂定其收入\\n构成中基础薪点不低于 40%。 \\n \\n第八章  管理与奖惩  \\n第十八条   个金客户经理管理机构为分行客户经理管理委员会。\\n管理委员会组成人员：行长或主管业务副行长，个人业务部、人力资\\n源部、风险管理部负责人。  \\n第十九条   客户经理申报的各种信息必须真实。分行个人业务部\\n需对其工作业绩数据进行核实，并对其真实性负责；分行人事部门需\\n对其学历、工作阅历等基本信息进行核实，并对其真实性负责。  \\n第二十条   对因工作不负责任使资产质量产生严重风险或造成损\\n失的给予降级直至开 除处分，构成渎职罪的提请司法部门追究刑事责\\n任。-   \\n-9 第九章  附    则 \\n第二十一条   本办法自发布之日起执行。  \\n第二十二条   本办法由上海浦东发展银行西安分行行负责解释和\\n修改。'),\n",
       " Document(id='09b296e4-3be2-4329-913b-84bff873622d', metadata={'page': 1, 'source': './浦发上海浦东发展银行西安分行个金客户经理考核办法.pdf'}, page_content='-   \\n-1 上海浦东发展银行西安分行  \\n个金客户经理管理考核暂行办法  \\n \\n \\n第一章  总   则 \\n第一条   为保证我分行个金客户经理制的顺利实施，有效调动个\\n金客户经理的积极性，促进个金业务快速、稳定地发展，根据总行《上\\n海浦东发展银行个人金融营销体系建设方案（试行）》要求，特制定\\n《上海浦东发展银行西安分行个金客户经理管理考核暂行办法（试\\n行）》（以下简称本办法）。  \\n第二条   个金客户经理系指各支行（营业部）从事个人金融产品\\n营销与市场开拓，为我行个人客户提供综合银行服务的我行市场人\\n员。 \\n第三条   考核内容分为二大类， 即个人业绩考核、 工作质量考核。\\n个人业绩包括个人资产业务、负债业务、卡业务。工作质量指个人业\\n务的资产质量。  \\n第四条   为规范激励规则，客户经理的技术职务和薪资实行每年\\n考核浮动。客户经理的奖金实行每季度考核浮动，即客户经理按其考\\n核内容得分与行员等级结合，享受对应的行员等级待遇。-   \\n-2 第二章  职位设置与职责  \\n第五条   个金客户经理职位设置为：客户经理助理、客户经理、\\n高级客户经理、资深客户经理。  \\n第六条   个金客户经理的基本职责：  \\n（一）   客户开发。研究客户信息、联系与选择客户、与客户建\\n立相互依存、相互支持的业务往来关系，扩大业务资源，创造良好业\\n绩； \\n（二）业务创新与产品营销。把握市场竞争变化方向，开展市场\\n与客户需 求的调研，对业务产品及服务进行创新；设计客户需求的产\\n品组合、制订和实施市场营销方案；  \\n（三）客户服务。负责我行各类表内外授信业务及中间业务的受\\n理和运作，进行综合性、整体性的客户服务；  \\n（四）防范风险，提高收益。提升风险防范意识及能力，提高经\\n营产品质量；  \\n（五）培养人材。在提高自身综合素质的同时，发扬团队精神，\\n培养后备业务骨干。-   \\n-3 第三章  基础素质要求  \\n第七条   个金客户经理准入条件：  \\n（一）工作经历：须具备大专以上学历，至少二年以上银行工作\\n经验。  \\n（二）工作能力：熟悉我行的各项业务，了解市场情况，熟悉各\\n类客户的金融需求，熟悉个人理财工具，有一定的业务管理和客户管\\n理能力。  \\n（三）工作业绩：个金客户经理均应达到相应等级的准入标准。\\n该标准可根据全行整体情况由考核部门进行调整。'),\n",
       " Document(id='33e4387b-0ed0-4c9d-b8cc-dea1fbc2648b', metadata={'page': 6, 'source': './浦发上海浦东发展银行西安分行个金客户经理考核办法.pdf'}, page_content='调整浮动。   \\n第十三条   特别聘任：  \\n（一）经分行同意录用从其他单位调入的个金客户经理，由用人\\n单位按 D类人员进行考核， 薪资待遇按其业绩享受行内正式行员工同\\n等待遇。待正式转正后按第十一条规定申报技术职务。  \\n（二）对为我行业务创新、工作业绩等方面做出重大贡献的市场\\n人员经支行推荐、分行行长 批准可越级聘任。  \\n第十四条   对于创利业绩较高，而暂未入围技术职务系列，或所\\n评聘技术职务较低的市场人员，各级领导要加大培养力度，使其尽快-   \\n-7 入围，并由所在行制定临时奖励办法。  \\n \\n第七章   考核待遇  \\n第十五条   个人金融业务客户经理的收入基本由三部分组成： 客\\n户经理等级基本收入、业绩奖励收入和日常工作绩效收入。  \\n客户经理等级基本收入是指客户经理的每月基本收入， 基本分为\\n助理客户经理、客户经理、高级客户经理和资深客户经理四大层面，\\n在每一层面分为若干等级。  \\n客户经理的等级标准由客户经理在上年的业绩为核定标准， 如果\\n客户经理在我行第一次进行客户经理评级， 以客户经理自我评价为主\\n要依据，结合客户经理以往工作经验，由个人金融部、人事部门共同\\n最终决定客户经理的等级。  \\n助理客户经理待遇按照人事部门对主办科员以下人员的待遇标\\n准；客户经理待遇按照人事部门对主办科员的待遇标准；高级客户经\\n理待遇按照人事部门对付科级的待遇标准； 资深客户经理待遇 按照人\\n事部门对正科级的待遇标准。  \\n业绩奖励收入是指客户经理每个业绩考核期间的实际业绩所给\\n与兑现的奖金部分。  \\n日常工作绩效收入是按照个金客户经理所从事的事务性工作进\\n行定量化考核，经过工作的完成情况进行奖金分配。该项奖金主要由\\n个人金融部总经理和各支行的行长其从事个人金融业务的人员进行\\n分配，主要侧重分配于从事个金业务的基础工作和创新工作。-   \\n-8 第十五条   各项考核分值总计达到某一档行员级别考核分值标\\n准，个金客户经理即可在下一季度享受该级行员的薪资标准。下一季\\n度考核时，按照已享受行员级别考核折算比值进行考核，以次类推。  \\n第十六条   对已聘为各级客户经理的人员，当工作业绩考核达不\\n到相应技术职务要求下限时，下一年技术职务相应下调 。 \\n第十七条   为保护个人业务客户经理创业的积极性，暂定其收入\\n构成中基础薪点不低于 40%。'),\n",
       " Document(id='ec9cfd0e-e0fe-49a6-b281-79df1efcaf57', metadata={'page': 3, 'source': './浦发上海浦东发展银行西安分行个金客户经理考核办法.pdf'}, page_content='-3 第三章  基础素质要求  \\n第七条   个金客户经理准入条件：  \\n（一）工作经历：须具备大专以上学历，至少二年以上银行工作\\n经验。  \\n（二）工作能力：熟悉我行的各项业务，了解市场情况，熟悉各\\n类客户的金融需求，熟悉个人理财工具，有一定的业务管理和客户管\\n理能力。  \\n（三）工作业绩：个金客户经理均应达到相应等级的准入标准。\\n该标准可根据全行整体情况由考核部门进行调整。  \\n（四）专业培训：个金客户经理应参加有关部门组织的专业培训\\n并通过业务考试。  \\n（五）符合分行人事管理和专业管理的要求。  \\n第四章  个人业绩考核标准  \\n第八条   个金客户经理个人业绩以储蓄季日均、季有效净增发卡\\n量、季净增个贷余额 三项业务为主要考核指标，实行季度考核。具体\\n标准如下：  \\n \\n    \\n类别 行员级别 考核分值 准入标准  \\n储蓄业务 个贷业务 卡业务 \\n客户经理助理  5 90 300万  500张 \\n4 95-   \\n-4 3 100  \\n2 105  \\n1 110  \\n客户经理 5 115 300万  500张 \\n4 120  \\n3 125  \\n2 130  \\n1 135  \\n高级客户经理  5 140 500万 800万  \\n4 145  \\n3 150  \\n2 155  \\n1 160  \\n资深客户经理  5 165 500万 800万  \\n4 170  \\n3 175  \\n2 180  \\n1 185  \\n说明： 1.储蓄业务（季日均余额）为各类个金客户经理考核进入的最低标准。   \\n2.卡业务（季新增发有效卡量）为见习、 D类、初级客户经理进入的最低标准。  \\n3.有效卡的概念：每张卡月均余额为 100元以上。  \\n4.个贷业务（季新增发放个贷）为中级以上客户经理考核进入的最低标准。  \\n5.超出最低考核标准可相互折算，折算标准： 50万储蓄 =50万个贷 =50张有效卡 =5分（折算以 5分为单位）-   \\n-5 第五章  工作质量考核标准  \\n第九条   工作质量考核实行扣分制。工作质量指个金客户经理在\\n从事所有个人业务时出现投诉、差错及风险。该项考核最多扣 50分，\\n如发生重大差错事故，按分行有关制度处理。  \\n（一）服务质量考核：   \\n1、工作责任心不强，缺乏配合协作精神；扣 5分 \\n2、客户服务效率低，态度生硬或不及时为客户提供维护服务，')]"
      ]
     },
     "execution_count": 11,
     "metadata": {},
     "output_type": "execute_result"
    }
   ],
   "source": [
    "#测试score_threshold参数的作用\n",
    "retriever = vector_store.as_retriever(search_kwargs={'k': 5})  # 如果设了score_threshold，就会出现docs返回空值\n",
    "docs = retriever.invoke(\"客户经理被投诉了，投诉一次扣多少分\")  # 或 get_relevant_documents()\n",
    "docs"
   ]
  },
  {
   "cell_type": "code",
   "execution_count": 10,
   "id": "cd4b8e21-4cec-46b7-a0a0-e4f2180c181c",
   "metadata": {},
   "outputs": [
    {
     "ename": "UnsupportedDataType",
     "evalue": "Unsupported atom data type: <class 'langchain_core.documents.base.Document'>",
     "output_type": "error",
     "traceback": [
      "\u001b[31m---------------------------------------------------------------------------\u001b[39m",
      "\u001b[31mUnsupportedDataType\u001b[39m                       Traceback (most recent call last)",
      "\u001b[36mCell\u001b[39m\u001b[36m \u001b[39m\u001b[32mIn[10]\u001b[39m\u001b[32m, line 21\u001b[39m\n\u001b[32m     18\u001b[39m document = docs\n\u001b[32m     20\u001b[39m query_vec = get_embedding(query)\n\u001b[32m---> \u001b[39m\u001b[32m21\u001b[39m doc_vec = \u001b[43mget_embedding\u001b[49m\u001b[43m(\u001b[49m\u001b[43mdocument\u001b[49m\u001b[43m)\u001b[49m\n\u001b[32m     23\u001b[39m similarity = cosine_similarity(query_vec, doc_vec)\n\u001b[32m     24\u001b[39m \u001b[38;5;28mprint\u001b[39m(\u001b[33mf\u001b[39m\u001b[33m\"\u001b[39m\u001b[33m相似度: \u001b[39m\u001b[38;5;132;01m{\u001b[39;00msimilarity\u001b[38;5;132;01m:\u001b[39;00m\u001b[33m.4f\u001b[39m\u001b[38;5;132;01m}\u001b[39;00m\u001b[33m\"\u001b[39m)  \u001b[38;5;66;03m# 输出示例: 相似度: 0.83\u001b[39;00m\n",
      "\u001b[36mCell\u001b[39m\u001b[36m \u001b[39m\u001b[32mIn[10]\u001b[39m\u001b[32m, line 6\u001b[39m, in \u001b[36mget_embedding\u001b[39m\u001b[34m(text)\u001b[39m\n\u001b[32m      5\u001b[39m \u001b[38;5;28;01mdef\u001b[39;00m\u001b[38;5;250m \u001b[39m\u001b[34mget_embedding\u001b[39m(text):\n\u001b[32m----> \u001b[39m\u001b[32m6\u001b[39m     resp = \u001b[43mTextEmbedding\u001b[49m\u001b[43m.\u001b[49m\u001b[43mcall\u001b[49m\u001b[43m(\u001b[49m\n\u001b[32m      7\u001b[39m \u001b[43m        \u001b[49m\u001b[43mmodel\u001b[49m\u001b[43m \u001b[49m\u001b[43m=\u001b[49m\u001b[43m \u001b[49m\u001b[43mEMBEDDING_MODEL\u001b[49m\u001b[43m,\u001b[49m\n\u001b[32m      8\u001b[39m \u001b[43m        \u001b[49m\u001b[38;5;28;43minput\u001b[39;49m\u001b[43m=\u001b[49m\u001b[43mtext\u001b[49m\n\u001b[32m      9\u001b[39m \u001b[43m    \u001b[49m\u001b[43m)\u001b[49m\n\u001b[32m     10\u001b[39m     \u001b[38;5;28;01mreturn\u001b[39;00m np.array(resp.output[\u001b[33m'\u001b[39m\u001b[33membeddings\u001b[39m\u001b[33m'\u001b[39m][\u001b[32m0\u001b[39m][\u001b[33m'\u001b[39m\u001b[33membedding\u001b[39m\u001b[33m'\u001b[39m])\n",
      "\u001b[36mFile \u001b[39m\u001b[32m~\\AppData\\Local\\Programs\\Python\\Python312\\Lib\\site-packages\\dashscope\\embeddings\\text_embedding.py:48\u001b[39m, in \u001b[36mTextEmbedding.call\u001b[39m\u001b[34m(cls, model, input, workspace, api_key, **kwargs)\u001b[39m\n\u001b[32m     46\u001b[39m kwargs.pop(\u001b[33m'\u001b[39m\u001b[33mstream\u001b[39m\u001b[33m'\u001b[39m, \u001b[38;5;28;01mFalse\u001b[39;00m)  \u001b[38;5;66;03m# not support streaming output.\u001b[39;00m\n\u001b[32m     47\u001b[39m task_group, function = _get_task_group_and_task(\u001b[34m__name__\u001b[39m)\n\u001b[32m---> \u001b[39m\u001b[32m48\u001b[39m \u001b[38;5;28;01mreturn\u001b[39;00m \u001b[38;5;28;43msuper\u001b[39;49m\u001b[43m(\u001b[49m\u001b[43m)\u001b[49m\u001b[43m.\u001b[49m\u001b[43mcall\u001b[49m\u001b[43m(\u001b[49m\u001b[43mmodel\u001b[49m\u001b[43m=\u001b[49m\u001b[43mmodel\u001b[49m\u001b[43m,\u001b[49m\n\u001b[32m     49\u001b[39m \u001b[43m                    \u001b[49m\u001b[38;5;28;43minput\u001b[39;49m\u001b[43m=\u001b[49m\u001b[43membedding_input\u001b[49m\u001b[43m,\u001b[49m\n\u001b[32m     50\u001b[39m \u001b[43m                    \u001b[49m\u001b[43mtask_group\u001b[49m\u001b[43m=\u001b[49m\u001b[43mtask_group\u001b[49m\u001b[43m,\u001b[49m\n\u001b[32m     51\u001b[39m \u001b[43m                    \u001b[49m\u001b[43mtask\u001b[49m\u001b[43m=\u001b[49m\u001b[43mTextEmbedding\u001b[49m\u001b[43m.\u001b[49m\u001b[43mtask\u001b[49m\u001b[43m,\u001b[49m\n\u001b[32m     52\u001b[39m \u001b[43m                    \u001b[49m\u001b[43mfunction\u001b[49m\u001b[43m=\u001b[49m\u001b[43mfunction\u001b[49m\u001b[43m,\u001b[49m\n\u001b[32m     53\u001b[39m \u001b[43m                    \u001b[49m\u001b[43mapi_key\u001b[49m\u001b[43m=\u001b[49m\u001b[43mapi_key\u001b[49m\u001b[43m,\u001b[49m\n\u001b[32m     54\u001b[39m \u001b[43m                    \u001b[49m\u001b[43mworkspace\u001b[49m\u001b[43m=\u001b[49m\u001b[43mworkspace\u001b[49m\u001b[43m,\u001b[49m\n\u001b[32m     55\u001b[39m \u001b[43m                    \u001b[49m\u001b[43m*\u001b[49m\u001b[43m*\u001b[49m\u001b[43mkwargs\u001b[49m\u001b[43m)\u001b[49m\n",
      "\u001b[36mFile \u001b[39m\u001b[32m~\\AppData\\Local\\Programs\\Python\\Python312\\Lib\\site-packages\\dashscope\\client\\base_api.py:148\u001b[39m, in \u001b[36mBaseApi.call\u001b[39m\u001b[34m(cls, model, input, task_group, task, function, api_key, workspace, **kwargs)\u001b[39m\n\u001b[32m    140\u001b[39m request = _build_api_request(model=model,\n\u001b[32m    141\u001b[39m                              \u001b[38;5;28minput\u001b[39m=\u001b[38;5;28minput\u001b[39m,\n\u001b[32m    142\u001b[39m                              task_group=task_group,\n\u001b[32m   (...)\u001b[39m\u001b[32m    145\u001b[39m                              api_key=api_key,\n\u001b[32m    146\u001b[39m                              **kwargs)\n\u001b[32m    147\u001b[39m \u001b[38;5;66;03m# call request service.\u001b[39;00m\n\u001b[32m--> \u001b[39m\u001b[32m148\u001b[39m \u001b[38;5;28;01mreturn\u001b[39;00m \u001b[43mrequest\u001b[49m\u001b[43m.\u001b[49m\u001b[43mcall\u001b[49m\u001b[43m(\u001b[49m\u001b[43m)\u001b[49m\n",
      "\u001b[36mFile \u001b[39m\u001b[32m~\\AppData\\Local\\Programs\\Python\\Python312\\Lib\\site-packages\\dashscope\\api_entities\\http_request.py:86\u001b[39m, in \u001b[36mHttpRequest.call\u001b[39m\u001b[34m(self)\u001b[39m\n\u001b[32m     84\u001b[39m     \u001b[38;5;28;01mreturn\u001b[39;00m (item \u001b[38;5;28;01mfor\u001b[39;00m item \u001b[38;5;129;01min\u001b[39;00m response)\n\u001b[32m     85\u001b[39m \u001b[38;5;28;01melse\u001b[39;00m:\n\u001b[32m---> \u001b[39m\u001b[32m86\u001b[39m     output = \u001b[38;5;28;43mnext\u001b[39;49m\u001b[43m(\u001b[49m\u001b[43mresponse\u001b[49m\u001b[43m)\u001b[49m\n\u001b[32m     87\u001b[39m     \u001b[38;5;28;01mtry\u001b[39;00m:\n\u001b[32m     88\u001b[39m         \u001b[38;5;28mnext\u001b[39m(response)\n",
      "\u001b[36mFile \u001b[39m\u001b[32m~\\AppData\\Local\\Programs\\Python\\Python312\\Lib\\site-packages\\dashscope\\api_entities\\http_request.py:305\u001b[39m, in \u001b[36mHttpRequest._handle_request\u001b[39m\u001b[34m(self)\u001b[39m\n\u001b[32m    303\u001b[39m \u001b[38;5;28;01mexcept\u001b[39;00m \u001b[38;5;167;01mBaseException\u001b[39;00m \u001b[38;5;28;01mas\u001b[39;00m e:\n\u001b[32m    304\u001b[39m     logger.error(e)\n\u001b[32m--> \u001b[39m\u001b[32m305\u001b[39m     \u001b[38;5;28;01mraise\u001b[39;00m e\n",
      "\u001b[36mFile \u001b[39m\u001b[32m~\\AppData\\Local\\Programs\\Python\\Python312\\Lib\\site-packages\\dashscope\\api_entities\\http_request.py:277\u001b[39m, in \u001b[36mHttpRequest._handle_request\u001b[39m\u001b[34m(self)\u001b[39m\n\u001b[32m    275\u001b[39m \u001b[38;5;28;01mwith\u001b[39;00m requests.Session() \u001b[38;5;28;01mas\u001b[39;00m session:\n\u001b[32m    276\u001b[39m     \u001b[38;5;28;01mif\u001b[39;00m \u001b[38;5;28mself\u001b[39m.method == HTTPMethod.POST:\n\u001b[32m--> \u001b[39m\u001b[32m277\u001b[39m         is_form, form, obj = \u001b[38;5;28;43mself\u001b[39;49m\u001b[43m.\u001b[49m\u001b[43mdata\u001b[49m\u001b[43m.\u001b[49m\u001b[43mget_http_payload\u001b[49m\u001b[43m(\u001b[49m\u001b[43m)\u001b[49m\n\u001b[32m    278\u001b[39m         \u001b[38;5;28;01mif\u001b[39;00m is_form:\n\u001b[32m    279\u001b[39m             headers = {**\u001b[38;5;28mself\u001b[39m.headers}\n",
      "\u001b[36mFile \u001b[39m\u001b[32m~\\AppData\\Local\\Programs\\Python\\Python312\\Lib\\site-packages\\dashscope\\api_entities\\api_request_data.py:101\u001b[39m, in \u001b[36mApiRequestData.get_http_payload\u001b[39m\u001b[34m(self)\u001b[39m\n\u001b[32m     93\u001b[39m \u001b[38;5;28;01mdef\u001b[39;00m\u001b[38;5;250m \u001b[39m\u001b[34mget_http_payload\u001b[39m(\u001b[38;5;28mself\u001b[39m):\n\u001b[32m     94\u001b[39m \u001b[38;5;250m    \u001b[39m\u001b[33;03m\"\"\"Get http payload.\u001b[39;00m\n\u001b[32m     95\u001b[39m \u001b[33;03m    If there are form, return form data, otherwise\u001b[39;00m\n\u001b[32m     96\u001b[39m \u001b[33;03m        return input and parameter body.\u001b[39;00m\n\u001b[32m   (...)\u001b[39m\u001b[32m     99\u001b[39m \u001b[33;03m        is_form, data: if there are are form, is_form is true.\u001b[39;00m\n\u001b[32m    100\u001b[39m \u001b[33;03m    \"\"\"\u001b[39;00m\n\u001b[32m--> \u001b[39m\u001b[32m101\u001b[39m     data = \u001b[38;5;28;43mself\u001b[39;49m\u001b[43m.\u001b[49m\u001b[43mto_request_object\u001b[49m\u001b[43m(\u001b[49m\u001b[43m)\u001b[49m\n\u001b[32m    102\u001b[39m     \u001b[38;5;28;01mif\u001b[39;00m \u001b[38;5;28mself\u001b[39m._form \u001b[38;5;129;01mis\u001b[39;00m \u001b[38;5;129;01mnot\u001b[39;00m \u001b[38;5;28;01mNone\u001b[39;00m:\n\u001b[32m    103\u001b[39m         \u001b[38;5;28;01mreturn\u001b[39;00m \u001b[38;5;28;01mTrue\u001b[39;00m, \u001b[38;5;28mself\u001b[39m._form, data\n",
      "\u001b[36mFile \u001b[39m\u001b[32m~\\AppData\\Local\\Programs\\Python\\Python312\\Lib\\site-packages\\dashscope\\api_entities\\api_request_data.py:55\u001b[39m, in \u001b[36mApiRequestData.to_request_object\u001b[39m\u001b[34m(self)\u001b[39m\n\u001b[32m     50\u001b[39m \u001b[38;5;28;01mdef\u001b[39;00m\u001b[38;5;250m \u001b[39m\u001b[34mto_request_object\u001b[39m(\u001b[38;5;28mself\u001b[39m) -> \u001b[38;5;28mstr\u001b[39m:\n\u001b[32m     51\u001b[39m \u001b[38;5;250m    \u001b[39m\u001b[33;03m\"\"\"Convert data to json, called from http request.\u001b[39;00m\n\u001b[32m     52\u001b[39m \u001b[33;03m    Returns:\u001b[39;00m\n\u001b[32m     53\u001b[39m \u001b[33;03m        str: Json string.\u001b[39;00m\n\u001b[32m     54\u001b[39m \u001b[33;03m    \"\"\"\u001b[39;00m\n\u001b[32m---> \u001b[39m\u001b[32m55\u001b[39m     \u001b[38;5;28mself\u001b[39m.input = \u001b[38;5;28;43mnext\u001b[39;49m\u001b[43m(\u001b[49m\u001b[38;5;28;43mself\u001b[39;49m\u001b[43m.\u001b[49m\u001b[43m_input_resolver\u001b[49m\u001b[43m)\u001b[49m\n\u001b[32m     56\u001b[39m     o = {\n\u001b[32m     57\u001b[39m         k: v\n\u001b[32m     58\u001b[39m         \u001b[38;5;28;01mfor\u001b[39;00m k, v \u001b[38;5;129;01min\u001b[39;00m \u001b[38;5;28mself\u001b[39m.\u001b[34m__dict__\u001b[39m.items()\n\u001b[32m     59\u001b[39m         \u001b[38;5;28;01mif\u001b[39;00m \u001b[38;5;129;01mnot\u001b[39;00m (k.startswith(\u001b[33m'\u001b[39m\u001b[33m_\u001b[39m\u001b[33m'\u001b[39m) \u001b[38;5;129;01mor\u001b[39;00m k.startswith(\u001b[33m'\u001b[39m\u001b[33mtask\u001b[39m\u001b[33m'\u001b[39m)\n\u001b[32m     60\u001b[39m                 \u001b[38;5;129;01mor\u001b[39;00m k.startswith(\u001b[33m'\u001b[39m\u001b[33mfunction\u001b[39m\u001b[33m'\u001b[39m) \u001b[38;5;129;01mor\u001b[39;00m v \u001b[38;5;129;01mis\u001b[39;00m \u001b[38;5;28;01mNone\u001b[39;00m)\n\u001b[32m     61\u001b[39m     }\n\u001b[32m     62\u001b[39m     \u001b[38;5;28;01mreturn\u001b[39;00m o\n",
      "\u001b[36mFile \u001b[39m\u001b[32m~\\AppData\\Local\\Programs\\Python\\Python312\\Lib\\site-packages\\dashscope\\io\\input_output.py:21\u001b[39m, in \u001b[36mInputResolver.__next__\u001b[39m\u001b[34m(self)\u001b[39m\n\u001b[32m     19\u001b[39m \u001b[38;5;28;01mdef\u001b[39;00m\u001b[38;5;250m \u001b[39m\u001b[34m__next__\u001b[39m(\u001b[38;5;28mself\u001b[39m):\n\u001b[32m     20\u001b[39m     \u001b[38;5;28;01mwhile\u001b[39;00m \u001b[38;5;28;01mTrue\u001b[39;00m:\n\u001b[32m---> \u001b[39m\u001b[32m21\u001b[39m         \u001b[38;5;28;01mreturn\u001b[39;00m \u001b[43mresolve_input\u001b[49m\u001b[43m(\u001b[49m\u001b[38;5;28;43mself\u001b[39;49m\u001b[43m.\u001b[49m\u001b[43m_instance\u001b[49m\u001b[43m,\u001b[49m\u001b[43m \u001b[49m\u001b[38;5;28;43mself\u001b[39;49m\u001b[43m.\u001b[49m\u001b[43m_is_encode_binary\u001b[49m\u001b[43m,\u001b[49m\n\u001b[32m     22\u001b[39m \u001b[43m                             \u001b[49m\u001b[38;5;28;43mself\u001b[39;49m\u001b[43m.\u001b[49m\u001b[43m_custom_type_resolver\u001b[49m\u001b[43m)\u001b[49m\n",
      "\u001b[36mFile \u001b[39m\u001b[32m~\\AppData\\Local\\Programs\\Python\\Python312\\Lib\\site-packages\\dashscope\\io\\input_output.py:64\u001b[39m, in \u001b[36mresolve_input\u001b[39m\u001b[34m(input, is_encode_binary, custom_type_resolver)\u001b[39m\n\u001b[32m     62\u001b[39m     out_input = {}\n\u001b[32m     63\u001b[39m     \u001b[38;5;28;01mfor\u001b[39;00m key, value \u001b[38;5;129;01min\u001b[39;00m \u001b[38;5;28minput\u001b[39m.items():\n\u001b[32m---> \u001b[39m\u001b[32m64\u001b[39m         out_input[key] = \u001b[43mresolve_input\u001b[49m\u001b[43m(\u001b[49m\u001b[43mvalue\u001b[49m\u001b[43m,\u001b[49m\u001b[43m \u001b[49m\u001b[43mis_encode_binary\u001b[49m\u001b[43m,\u001b[49m\n\u001b[32m     65\u001b[39m \u001b[43m                                       \u001b[49m\u001b[43mcustom_type_resolver\u001b[49m\u001b[43m)\u001b[49m\n\u001b[32m     66\u001b[39m     \u001b[38;5;28;01mreturn\u001b[39;00m out_input\n\u001b[32m     67\u001b[39m \u001b[38;5;28;01melif\u001b[39;00m \u001b[38;5;28misinstance\u001b[39m(\u001b[38;5;28minput\u001b[39m, (\u001b[38;5;28mlist\u001b[39m, \u001b[38;5;28mtuple\u001b[39m, \u001b[38;5;28mset\u001b[39m)):\n",
      "\u001b[36mFile \u001b[39m\u001b[32m~\\AppData\\Local\\Programs\\Python\\Python312\\Lib\\site-packages\\dashscope\\io\\input_output.py:71\u001b[39m, in \u001b[36mresolve_input\u001b[39m\u001b[34m(input, is_encode_binary, custom_type_resolver)\u001b[39m\n\u001b[32m     68\u001b[39m     out_input = []\n\u001b[32m     69\u001b[39m     \u001b[38;5;28;01mfor\u001b[39;00m item \u001b[38;5;129;01min\u001b[39;00m \u001b[38;5;28minput\u001b[39m:\n\u001b[32m     70\u001b[39m         out_input.append(\n\u001b[32m---> \u001b[39m\u001b[32m71\u001b[39m             \u001b[43mresolve_input\u001b[49m\u001b[43m(\u001b[49m\u001b[43mitem\u001b[49m\u001b[43m,\u001b[49m\u001b[43m \u001b[49m\u001b[43mis_encode_binary\u001b[49m\u001b[43m,\u001b[49m\u001b[43m \u001b[49m\u001b[43mcustom_type_resolver\u001b[49m\u001b[43m)\u001b[49m)\n\u001b[32m     72\u001b[39m     \u001b[38;5;28;01mreturn\u001b[39;00m out_input\n\u001b[32m     73\u001b[39m \u001b[38;5;28;01melif\u001b[39;00m \u001b[38;5;28misinstance\u001b[39m(\u001b[38;5;28minput\u001b[39m, \u001b[38;5;28mstr\u001b[39m):\n",
      "\u001b[36mFile \u001b[39m\u001b[32m~\\AppData\\Local\\Programs\\Python\\Python312\\Lib\\site-packages\\dashscope\\io\\input_output.py:113\u001b[39m, in \u001b[36mresolve_input\u001b[39m\u001b[34m(input, is_encode_binary, custom_type_resolver)\u001b[39m\n\u001b[32m    111\u001b[39m     \u001b[38;5;28;01mreturn\u001b[39;00m custom_type_resolver[\u001b[38;5;28mtype\u001b[39m(\u001b[38;5;28minput\u001b[39m)](\u001b[38;5;28minput\u001b[39m)\n\u001b[32m    112\u001b[39m \u001b[38;5;28;01melse\u001b[39;00m:\n\u001b[32m--> \u001b[39m\u001b[32m113\u001b[39m     \u001b[38;5;28;01mraise\u001b[39;00m UnsupportedDataType(\u001b[33m'\u001b[39m\u001b[33mUnsupported atom data type: \u001b[39m\u001b[38;5;132;01m%s\u001b[39;00m\u001b[33m'\u001b[39m %\n\u001b[32m    114\u001b[39m                               \u001b[38;5;28mtype\u001b[39m(\u001b[38;5;28minput\u001b[39m))\n",
      "\u001b[31mUnsupportedDataType\u001b[39m: Unsupported atom data type: <class 'langchain_core.documents.base.Document'>"
     ]
    }
   ],
   "source": [
    "# #比较问题和答案文档的相似性\n",
    "# from dashscope import TextEmbedding\n",
    "# import numpy as np\n",
    "# # 1. 获取 DashScope Embeddings\n",
    "# def get_embedding(text):\n",
    "#     resp = TextEmbedding.call(\n",
    "#         model = EMBEDDING_MODEL,\n",
    "#         input=text\n",
    "#     )\n",
    "#     return np.array(resp.output['embeddings'][0]['embedding'])\n",
    "\n",
    "# # 2. 计算余弦相似度\n",
    "# def cosine_similarity(a, b):\n",
    "#     return np.dot(a, b) / (np.linalg.norm(a) * np.linalg.norm(b))\n",
    "\n",
    "# # 实际使用\n",
    "# query = \"客户经理被投诉了，投诉一次扣多少分\"\n",
    "# document = docs\n",
    "\n",
    "# query_vec = get_embedding(query)\n",
    "# doc_vec = get_embedding(document)\n",
    "\n",
    "# similarity = cosine_similarity(query_vec, doc_vec)\n",
    "# print(f\"相似度: {similarity:.4f}\")  # 输出示例: 相似度: 0.83\n"
   ]
  },
  {
   "cell_type": "code",
   "execution_count": 20,
   "id": "94004d8e-8222-4bd4-9245-3c040685d570",
   "metadata": {},
   "outputs": [
    {
     "name": "stdout",
     "output_type": "stream",
     "text": [
      "\n",
      "系统已准备就绪，可以开始提问了。输入'退出'结束对话。\n"
     ]
    },
    {
     "name": "stdin",
     "output_type": "stream",
     "text": [
      "\n",
      "请输入问题： 客服经理的工作职责\n"
     ]
    },
    {
     "name": "stdout",
     "output_type": "stream",
     "text": [
      "\n",
      "=== 问题 ===\n",
      "客服经理的工作职责\n",
      "\n",
      "=== 回答 ===\n",
      "不知道\n",
      "\n",
      "来源：\n",
      "\n",
      "未找到相关文档。\n"
     ]
    },
    {
     "name": "stdin",
     "output_type": "stream",
     "text": [
      "\n",
      "请输入问题： 退出\n"
     ]
    }
   ],
   "source": [
    "# 问答循环\n",
    "print(\"\\n系统已准备就绪，可以开始提问了。输入'退出'结束对话。\")\n",
    "\n",
    "\n",
    "while True:\n",
    "    question = input(\"\\n请输入问题：\")\n",
    "    if question.lower() == '退出':\n",
    "        break\n",
    "        \n",
    "    # # 直接使用检索器获取相关文档\n",
    "    #docs = vector_store.similarity_search(question, k=6)\n",
    "    # print(f\"\\n检索到的文档数量：{len(docs)}\")\n",
    "    # if docs:\n",
    "    #     # print(\"检索到的文档内容：\")\n",
    "    #     # for doc in docs:\n",
    "    #     #     print(f\"- {doc.page_content[:200]}...\")\n",
    "    \n",
    "    # 生成回答\n",
    "\n",
    "    answer = qa_chain.invoke({\"query\":question})\n",
    "    \n",
    "#    print(f'answer={answer}')\n",
    "    # 输出结果\n",
    "    print(f\"\\n=== 问题 ===\\n{question}\")\n",
    "    print(f\"\\n=== 回答 ===\\n{answer['result']}\")\n",
    "    \n",
    "    # 显示来源\n",
    "    print(\"\\n来源：\")\n",
    "    if  answer['source_documents'] :\n",
    "        for doc in answer['source_documents']:\n",
    "            print(f\"- 页码：{doc.metadata.get('page', '未知')}, 来源：{doc.metadata.get('source', '未知')}\")\n",
    "#            print(f\"  内容：{doc.page_content[:50]}...\")  # 显示文档内容的前10个字符\n",
    "    else:\n",
    "        print(\"\\n未找到相关文档。\")"
   ]
  },
  {
   "cell_type": "code",
   "execution_count": null,
   "id": "4a3d6e0b-8340-4312-acc7-bb8ff1cbf7ec",
   "metadata": {},
   "outputs": [],
   "source": []
  }
 ],
 "metadata": {
  "kernelspec": {
   "display_name": "Python 3 (ipykernel)",
   "language": "python",
   "name": "python3"
  },
  "language_info": {
   "codemirror_mode": {
    "name": "ipython",
    "version": 3
   },
   "file_extension": ".py",
   "mimetype": "text/x-python",
   "name": "python",
   "nbconvert_exporter": "python",
   "pygments_lexer": "ipython3",
   "version": "3.12.2"
  }
 },
 "nbformat": 4,
 "nbformat_minor": 5
}
