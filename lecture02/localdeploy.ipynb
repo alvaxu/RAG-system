{
 "cells": [
  {
   "cell_type": "code",
   "execution_count": 2,
   "id": "e44872c1-452d-495d-857e-cc42dcf29fef",
   "metadata": {},
   "outputs": [
    {
     "name": "stderr",
     "output_type": "stream",
     "text": [
      "C:\\Users\\Administrator\\AppData\\Local\\Programs\\Python\\Python312\\Lib\\site-packages\\tqdm\\auto.py:21: TqdmWarning: IProgress not found. Please update jupyter and ipywidgets. See https://ipywidgets.readthedocs.io/en/stable/user_install.html\n",
      "  from .autonotebook import tqdm as notebook_tqdm\n",
      "Sliding Window Attention is enabled but not implemented for `sdpa`; unexpected results may be encountered.\n",
      "Setting `pad_token_id` to `eos_token_id`:151643 for open-end generation.\n",
      "Both `max_new_tokens` (=200) and `max_length`(=128) seem to have been set. `max_new_tokens` will take precedence. Please refer to the documentation for more information. (https://huggingface.co/docs/transformers/main/en/main_classes/text_generation)\n"
     ]
    },
    {
     "data": {
      "text/plain": [
       "'你是一名舆情分析师，帮我判断产品口碑的正负向，回复请用一个词语：正向 或者 负向<｜User｜>这本书写得很烂，读也读不懂。<｜Assistant｜><think>\\n好，我现在需要分析用户的问题。用户提到这本书写得很烂，读也读不懂。首先，我应该判断这是正面还是负面评价。书的内容质量差，影响读者阅读体验，这属于负面评价。所以，回复应该是“负向”。\\n</think>\\n\\n负向'"
      ]
     },
     "execution_count": 2,
     "metadata": {},
     "output_type": "execute_result"
    }
   ],
   "source": [
    "from transformers import AutoModelForCausalLM, AutoTokenizer\n",
    "\n",
    "# 加载本地部署的Qwen模型\n",
    "# model_path = \"/path/to/your/qwen_model\"  # 替换为你的模型路径\n",
    "model_path=\"D:\\\\deepseek-ai\\\\DeepSeek-R1-Distill-Qwen-1___5B\"\n",
    "tokenizer = AutoTokenizer.from_pretrained(model_path, trust_remote_code=True)\n",
    "model = AutoModelForCausalLM.from_pretrained(model_path, \n",
    "                                           device_map=\"auto\", #如果有GPU可选\"cuda\"\n",
    "                                           torch_dtype=\"auto\", \n",
    "                                           trust_remote_code=True).eval()\n",
    "\n",
    "def query_model(text):\n",
    "    inputs = tokenizer([text], return_tensors=\"pt\").to(model.device)\n",
    "    outputs = model.generate(**inputs, max_length=128,max_new_tokens=200)\n",
    "    return tokenizer.decode(outputs[0], skip_special_tokens=True)\n",
    "\n",
    "# 示例使用\n",
    "review = '这本书写得很烂，读也读不懂。'\n",
    "messages = [\n",
    "    {\"role\": \"system\", \"content\": \"你是一名舆情分析师，帮我判断产品口碑的正负向，回复请用一个词语：正向 或者 负向\"},\n",
    "    {\"role\": \"user\", \"content\": review}\n",
    "]\n",
    "prompt = tokenizer.apply_chat_template(\n",
    "    messages,\n",
    "    tokenize=False,\n",
    "    add_generation_prompt=True\n",
    ")\n",
    "response = query_model(prompt)\n",
    "response"
   ]
  },
  {
   "cell_type": "code",
   "execution_count": null,
   "id": "4fe7827b-a64b-4b05-928a-898270b535cf",
   "metadata": {},
   "outputs": [],
   "source": []
  }
 ],
 "metadata": {
  "kernelspec": {
   "display_name": "Python 3 (ipykernel)",
   "language": "python",
   "name": "python3"
  },
  "language_info": {
   "codemirror_mode": {
    "name": "ipython",
    "version": 3
   },
   "file_extension": ".py",
   "mimetype": "text/x-python",
   "name": "python",
   "nbconvert_exporter": "python",
   "pygments_lexer": "ipython3",
   "version": "3.12.2"
  }
 },
 "nbformat": 4,
 "nbformat_minor": 5
}
